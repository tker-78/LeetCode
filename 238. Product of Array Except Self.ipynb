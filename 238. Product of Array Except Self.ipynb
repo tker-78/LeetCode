{
 "cells": [
  {
   "cell_type": "markdown",
   "metadata": {},
   "source": [
    "# 238. Product of Array Except Self\n",
    "[問題](https://leetcode.com/problems/product-of-array-except-self/)  \n",
    "\n",
    "Given an integer array nums, return an array answer such that answer[i] is equal to the product of all the elements of nums except nums[i].\n",
    "\n",
    "The product of any prefix or suffix of nums is guaranteed to fit in a 32-bit integer.\n",
    "\n",
    "You must write an algorithm that runs in O(n) time and without using the division operation.\n",
    "\n",
    " \n",
    "\n",
    "Example 1:\n",
    "```\n",
    "Input: nums = [1,2,3,4]\n",
    "Output: [24,12,8,6]\n",
    "Example 2:\n",
    "\n",
    "Input: nums = [-1,1,0,-3,3]\n",
    "Output: [0,0,9,0,0]\n",
    "```\n",
    "\n",
    "## 回答の方針\n",
    "右から掛けたのと左から掛けたのを自身を除いて掛ける\n",
    "\n",
    "## 実装"
   ]
  },
  {
   "cell_type": "code",
   "execution_count": 9,
   "metadata": {},
   "outputs": [],
   "source": [
    "from typing import List\n",
    "class Solution(object):\n",
    "    def productExceptSelf(self, nums: List[int]) -> List[int]:\n",
    "        length = len(nums)\n",
    "        product_left, product_right = [0] * length, [0] * length\n",
    "        product_left[0], product_right[length-1] = 1,1\n",
    "\n",
    "        for i in range(1, length):\n",
    "            product_left[i] = nums[i-1] * product_left[i-1]\n",
    "\n",
    "        for i in range(length-2, -1, -1):\n",
    "            product_right[i] = nums[i+1] * product_right[i+1]\n",
    "        \n",
    "        ans = []\n",
    "        for i in range(length):\n",
    "            ans.append(product_left[i] * product_right[i])\n",
    "        return ans\n",
    "\n"
   ]
  },
  {
   "cell_type": "code",
   "execution_count": 10,
   "metadata": {},
   "outputs": [],
   "source": [
    "nums = [1,2,3,4,5,6]"
   ]
  },
  {
   "cell_type": "code",
   "execution_count": 11,
   "metadata": {},
   "outputs": [
    {
     "name": "stdout",
     "output_type": "stream",
     "text": [
      "[720, 360, 240, 180, 144, 120]\n"
     ]
    }
   ],
   "source": [
    "print(Solution().productExceptSelf(nums))"
   ]
  },
  {
   "cell_type": "markdown",
   "metadata": {},
   "source": [
    "## 考察\n",
    "自身を含まない場合は、このように自身を境目に分割してみる。"
   ]
  }
 ],
 "metadata": {
  "kernelspec": {
   "display_name": ".venv",
   "language": "python",
   "name": "python3"
  },
  "language_info": {
   "codemirror_mode": {
    "name": "ipython",
    "version": 3
   },
   "file_extension": ".py",
   "mimetype": "text/x-python",
   "name": "python",
   "nbconvert_exporter": "python",
   "pygments_lexer": "ipython3",
   "version": "3.12.3"
  }
 },
 "nbformat": 4,
 "nbformat_minor": 2
}
