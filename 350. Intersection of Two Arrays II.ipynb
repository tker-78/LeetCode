{
 "cells": [
  {
   "cell_type": "markdown",
   "metadata": {},
   "source": [
    "# 350. Intersection of Two Arrays II\n",
    "[問題](https://leetcode.com/problems/intersection-of-two-arrays-ii/description/)"
   ]
  },
  {
   "cell_type": "markdown",
   "metadata": {},
   "source": [
    "## 解答の方針\n",
    "結果の重複をなくすために、hashmapを使って要素をカウントする。"
   ]
  },
  {
   "cell_type": "code",
   "execution_count": 1,
   "metadata": {},
   "outputs": [],
   "source": [
    "import ipytest\n",
    "ipytest.autoconfig()"
   ]
  },
  {
   "cell_type": "code",
   "execution_count": 49,
   "metadata": {},
   "outputs": [],
   "source": [
    "from typing import List\n",
    "import collections\n",
    "class Solution():\n",
    "    def intersect(self, nums1: List[int], nums2: List[int]) -> List[int]:\n",
    "        hashmap = collections.defaultdict(int)\n",
    "        ans = []\n",
    "        if len(nums1) <= len(nums2):\n",
    "            short = nums1\n",
    "            long = nums2\n",
    "        else:\n",
    "            short = nums2\n",
    "            long = nums1\n",
    "        \n",
    "        for item in short:\n",
    "            hashmap[item] += 1\n",
    "        \n",
    "        print(hashmap)\n",
    "\n",
    "\n",
    "        # hashmapと同じkeyがあればansに格納して、valueを一つ減らす。\n",
    "        for item in hashmap:\n",
    "            print(f\"hashmap item: {item}\")\n",
    "            for l in long:\n",
    "                print(f\"long item: {l}\")\n",
    "                if item == l and hashmap[item] > 0:\n",
    "                    hashmap[item] -= 1\n",
    "                    ans.append(l)\n",
    "        return ans\n",
    "\n",
    "\n"
   ]
  },
  {
   "cell_type": "code",
   "execution_count": 50,
   "metadata": {},
   "outputs": [],
   "source": [
    "nums1 = [1,2,2,1]\n",
    "nums2 = [2,2]\n",
    "output =  [2,2]"
   ]
  },
  {
   "cell_type": "code",
   "execution_count": 51,
   "metadata": {},
   "outputs": [],
   "source": [
    "nums1 = [1,2]\n",
    "nums2 = [1,1]\n",
    "output = [1]"
   ]
  },
  {
   "cell_type": "code",
   "execution_count": 52,
   "metadata": {},
   "outputs": [
    {
     "name": "stdout",
     "output_type": "stream",
     "text": [
      "defaultdict(<class 'int'>, {1: 1, 2: 1})\n",
      "hashmap item: 1\n",
      "long item: 1\n",
      "long item: 1\n",
      "hashmap item: 2\n",
      "long item: 1\n",
      "long item: 1\n",
      "\u001b[32m.\u001b[0m\n",
      "\u001b[32m\u001b[32m\u001b[1m1 passed\u001b[0m\u001b[32m in 0.10s\u001b[0m\u001b[0m\n"
     ]
    }
   ],
   "source": [
    "%%ipytest -s\n",
    "def test_intersect():\n",
    "    assert Solution().intersect(nums1, nums2) == output"
   ]
  },
  {
   "cell_type": "markdown",
   "metadata": {},
   "source": [
    "## 考察\n",
    "計算量はO(N).  \n",
    "Arrayを直接操作すれば計算量を減らせる。"
   ]
  }
 ],
 "metadata": {
  "kernelspec": {
   "display_name": ".venv",
   "language": "python",
   "name": "python3"
  },
  "language_info": {
   "codemirror_mode": {
    "name": "ipython",
    "version": 3
   },
   "file_extension": ".py",
   "mimetype": "text/x-python",
   "name": "python",
   "nbconvert_exporter": "python",
   "pygments_lexer": "ipython3",
   "version": "3.12.3"
  }
 },
 "nbformat": 4,
 "nbformat_minor": 2
}
