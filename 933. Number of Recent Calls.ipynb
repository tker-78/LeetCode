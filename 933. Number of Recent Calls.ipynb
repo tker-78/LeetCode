{
 "cells": [
  {
   "cell_type": "markdown",
   "metadata": {},
   "source": [
    "# 933. Number of Recent Calls\n",
    "[問題](https://leetcode.com/problems/number-of-recent-calls/)\n",
    "\n",
    "You have a RecentCounter class which counts the number of recent requests within a certain time frame.\n",
    "\n",
    "Implement the RecentCounter class:\n",
    "\n",
    "RecentCounter() Initializes the counter with zero recent requests.\n",
    "int ping(int t) Adds a new request at time t, where t represents some time in milliseconds, and returns the number of requests that has happened in the past 3000 milliseconds (including the new request). Specifically, return the number of requests that have happened in the inclusive range [t - 3000, t].\n",
    "It is guaranteed that every call to ping uses a strictly larger value of t than the previous call.\n",
    "\n",
    " \n",
    "\n",
    "Example 1:\n",
    "\n",
    "Input\n",
    "[\"RecentCounter\", \"ping\", \"ping\", \"ping\", \"ping\"]\n",
    "[[], [1], [100], [3001], [3002]]\n",
    "Output\n",
    "[null, 1, 2, 3, 3]\n",
    "\n",
    "Explanation\n",
    "RecentCounter recentCounter = new RecentCounter();\n",
    "recentCounter.ping(1);     // requests = [1], range is [-2999,1], return 1\n",
    "recentCounter.ping(100);   // requests = [1, 100], range is [-2900,100], return 2\n",
    "recentCounter.ping(3001);  // requests = [1, 100, 3001], range is [1,3001], return 3\n",
    "recentCounter.ping(3002);  // requests = [1, 100, 3001, 3002], range is [2,3002], return 3\n",
    " \n",
    "\n",
    "Constraints:\n",
    "\n",
    "1 <= t <= 109\n",
    "Each test case will call ping with strictly increasing values of t.\n",
    "At most 104 calls will be made to ping\n",
    "\n",
    "\n",
    "## 回答の方針\n",
    "tを順番にappendして、t - 3000 ~ tの範囲にいる要素数を返すだけ。簡単。\n",
    "\n",
    "\n",
    "## 実装"
   ]
  },
  {
   "cell_type": "code",
   "execution_count": 6,
   "metadata": {},
   "outputs": [],
   "source": [
    "class RecentCounter(object):\n",
    "    def __init__(self):\n",
    "        self.counter = 0\n",
    "        self.requests = []\n",
    "\n",
    "\n",
    "    def ping(self, t: int) -> int:\n",
    "        self.counter = 0\n",
    "        self.requests.append(t)\n",
    "        ping_range = [t-3000, t]\n",
    "        for i in self.requests:\n",
    "            if i >= ping_range[0] and i <= ping_range[1]:\n",
    "                self.counter += 1\n",
    "        return self.counter\n",
    "        \n",
    "\n",
    "\n",
    "\n",
    "\n"
   ]
  },
  {
   "cell_type": "code",
   "execution_count": 7,
   "metadata": {},
   "outputs": [],
   "source": [
    "ts = [[], [1], [100], [3001], [3002]]"
   ]
  },
  {
   "cell_type": "code",
   "execution_count": 8,
   "metadata": {},
   "outputs": [],
   "source": [
    "obj = RecentCounter()"
   ]
  },
  {
   "cell_type": "code",
   "execution_count": 9,
   "metadata": {},
   "outputs": [
    {
     "name": "stdout",
     "output_type": "stream",
     "text": [
      "null\n",
      "1\n",
      "2\n",
      "3\n",
      "3\n"
     ]
    }
   ],
   "source": [
    "for item in ts:\n",
    "    if item:\n",
    "        print(obj.ping(item[0]))\n",
    "    else:\n",
    "        print(\"null\")"
   ]
  },
  {
   "cell_type": "markdown",
   "metadata": {},
   "source": [
    "## 考察\n",
    "これでOKだけど、速度は改善の余地あり。\n",
    "deque()を使うことで実行時間が1/50になる。\n",
    "元のコードは計算量O(n)だったのが、0(1)になったため。"
   ]
  },
  {
   "cell_type": "code",
   "execution_count": 1,
   "metadata": {},
   "outputs": [],
   "source": [
    "from collections import deque\n",
    "class RecentCounter2:\n",
    "    def __init__(self):\n",
    "        self.slide_window = deque()\n",
    "    \n",
    "    def ping(self, t: int) -> int:\n",
    "        self.slide_window.append(t)\n",
    "\n",
    "        while self.slide_window[0] < t- 3000:\n",
    "            self.slide_window.popleft()\n",
    "\n",
    "        return len(self.slide_window)"
   ]
  },
  {
   "cell_type": "code",
   "execution_count": 2,
   "metadata": {},
   "outputs": [],
   "source": [
    "ts = [[], [1], [100], [3001], [3002]]"
   ]
  },
  {
   "cell_type": "code",
   "execution_count": 3,
   "metadata": {},
   "outputs": [],
   "source": [
    "obj2 = RecentCounter2()"
   ]
  },
  {
   "cell_type": "code",
   "execution_count": 4,
   "metadata": {},
   "outputs": [
    {
     "name": "stdout",
     "output_type": "stream",
     "text": [
      "null\n",
      "1\n",
      "2\n",
      "3\n",
      "3\n"
     ]
    }
   ],
   "source": [
    "for item in ts:\n",
    "    if item:\n",
    "        print(obj2.ping(item[0]))\n",
    "    else:\n",
    "        print(\"null\")"
   ]
  },
  {
   "cell_type": "code",
   "execution_count": null,
   "metadata": {},
   "outputs": [],
   "source": []
  }
 ],
 "metadata": {
  "kernelspec": {
   "display_name": ".venv",
   "language": "python",
   "name": "python3"
  },
  "language_info": {
   "codemirror_mode": {
    "name": "ipython",
    "version": 3
   },
   "file_extension": ".py",
   "mimetype": "text/x-python",
   "name": "python",
   "nbconvert_exporter": "python",
   "pygments_lexer": "ipython3",
   "version": "3.12.3"
  }
 },
 "nbformat": 4,
 "nbformat_minor": 2
}
