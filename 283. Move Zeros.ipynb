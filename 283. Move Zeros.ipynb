{
 "cells": [
  {
   "cell_type": "markdown",
   "metadata": {},
   "source": [
    "# 283. Move Zoros\n",
    "[問題]()"
   ]
  },
  {
   "cell_type": "markdown",
   "metadata": {},
   "source": [
    "## 解答の方針\n",
    "in-placeでnumsを書き換えるので、two pointersで実装する。\n",
    "readerとその一つ前の要素を指すwriterポインターを使い、readerが0でない要素を見つけたら、\n",
    "readerの要素をwriterの位置に書き込む。"
   ]
  },
  {
   "cell_type": "markdown",
   "metadata": {},
   "source": [
    "## 実装"
   ]
  },
  {
   "cell_type": "code",
   "execution_count": 13,
   "metadata": {},
   "outputs": [],
   "source": [
    "from typing import List\n",
    "\n",
    "nums = [0,0,1]\n",
    "\n",
    "class Solution(object):\n",
    "    def moveZeroes(self, nums: List[int]) -> None:\n",
    "        writer = 0\n",
    "\n",
    "        for i in range(0, len(nums)):\n",
    "            if nums[i] != 0:\n",
    "                nums[writer] = nums[i]\n",
    "                writer += 1\n",
    "\n",
    "        while writer < len(nums):\n",
    "            nums[writer] = 0\n",
    "            writer += 1\n",
    "            \n",
    "\n"
   ]
  },
  {
   "cell_type": "code",
   "execution_count": 14,
   "metadata": {},
   "outputs": [
    {
     "name": "stdout",
     "output_type": "stream",
     "text": [
      "[1, 0, 0]\n"
     ]
    }
   ],
   "source": [
    "Solution().moveZeroes(nums)\n",
    "print(nums)"
   ]
  },
  {
   "cell_type": "markdown",
   "metadata": {},
   "source": [
    "## 考察\n",
    "in-placeという指示があった場合、最初にtwo pointersを考える。"
   ]
  }
 ],
 "metadata": {
  "kernelspec": {
   "display_name": ".venv",
   "language": "python",
   "name": "python3"
  },
  "language_info": {
   "codemirror_mode": {
    "name": "ipython",
    "version": 3
   },
   "file_extension": ".py",
   "mimetype": "text/x-python",
   "name": "python",
   "nbconvert_exporter": "python",
   "pygments_lexer": "ipython3",
   "version": "3.12.3"
  }
 },
 "nbformat": 4,
 "nbformat_minor": 2
}
