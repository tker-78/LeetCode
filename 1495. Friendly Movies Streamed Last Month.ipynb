{
 "cells": [
  {
   "cell_type": "markdown",
   "metadata": {},
   "source": [
    "# 1495. Friendly Movies Streamed Last Month\n",
    "[問題](https://leetcode.com/problems/friendly-movies-streamed-last-month/description/?envType=study-plan-v2&envId=premium-sql-50)"
   ]
  },
  {
   "cell_type": "markdown",
   "metadata": {},
   "source": [
    "## 解答の方針\n",
    "mergeして、monthでグルーピングする。\n"
   ]
  },
  {
   "cell_type": "code",
   "execution_count": 1,
   "metadata": {},
   "outputs": [],
   "source": [
    "import pandas as pd"
   ]
  },
  {
   "cell_type": "code",
   "execution_count": 33,
   "metadata": {},
   "outputs": [],
   "source": [
    "data = [['2020-06-10 08:00', 1, 'LC-Channel'], ['2020-05-11 12:00', 2, 'LC-Channel'], ['2020-05-12 12:00', 3, 'LC-Channel'], ['2020-05-13 14:00', 4, 'Disney Ch'], ['2020-06-18 14:00', 4, 'Disney Ch'], ['2020-07-15 16:00', 5, 'Disney Ch']]\n",
    "tv_program = pd.DataFrame(data, columns=['program_date', 'content_id', 'channel']).astype({'program_date':'datetime64[ns]', 'content_id':'Int64', 'channel':'object'})\n",
    "data = [[1, 'Leetcode Movie', 'N', 'Movies'], [2, 'Alg. for Kids', 'Y', 'Series'], [3, 'Database Sols', 'N', 'Series'], [4, 'Aladdin', 'Y', 'Movies'], [5, 'Cinderella', 'Y', 'Movies']]\n",
    "content = pd.DataFrame(data, columns=['content_id', 'title', 'Kids_content', 'content_type']).astype({'content_id':'object', 'title':'object', 'Kids_content':'object', 'content_type':'object'})"
   ]
  },
  {
   "cell_type": "code",
   "execution_count": 34,
   "metadata": {},
   "outputs": [
    {
     "data": {
      "text/html": [
       "<div>\n",
       "<style scoped>\n",
       "    .dataframe tbody tr th:only-of-type {\n",
       "        vertical-align: middle;\n",
       "    }\n",
       "\n",
       "    .dataframe tbody tr th {\n",
       "        vertical-align: top;\n",
       "    }\n",
       "\n",
       "    .dataframe thead th {\n",
       "        text-align: right;\n",
       "    }\n",
       "</style>\n",
       "<table border=\"1\" class=\"dataframe\">\n",
       "  <thead>\n",
       "    <tr style=\"text-align: right;\">\n",
       "      <th></th>\n",
       "      <th>program_date</th>\n",
       "      <th>content_id</th>\n",
       "      <th>channel</th>\n",
       "    </tr>\n",
       "  </thead>\n",
       "  <tbody>\n",
       "    <tr>\n",
       "      <th>0</th>\n",
       "      <td>2020-06-10 08:00:00</td>\n",
       "      <td>1</td>\n",
       "      <td>LC-Channel</td>\n",
       "    </tr>\n",
       "    <tr>\n",
       "      <th>1</th>\n",
       "      <td>2020-05-11 12:00:00</td>\n",
       "      <td>2</td>\n",
       "      <td>LC-Channel</td>\n",
       "    </tr>\n",
       "    <tr>\n",
       "      <th>2</th>\n",
       "      <td>2020-05-12 12:00:00</td>\n",
       "      <td>3</td>\n",
       "      <td>LC-Channel</td>\n",
       "    </tr>\n",
       "    <tr>\n",
       "      <th>3</th>\n",
       "      <td>2020-05-13 14:00:00</td>\n",
       "      <td>4</td>\n",
       "      <td>Disney Ch</td>\n",
       "    </tr>\n",
       "    <tr>\n",
       "      <th>4</th>\n",
       "      <td>2020-06-18 14:00:00</td>\n",
       "      <td>4</td>\n",
       "      <td>Disney Ch</td>\n",
       "    </tr>\n",
       "    <tr>\n",
       "      <th>5</th>\n",
       "      <td>2020-07-15 16:00:00</td>\n",
       "      <td>5</td>\n",
       "      <td>Disney Ch</td>\n",
       "    </tr>\n",
       "  </tbody>\n",
       "</table>\n",
       "</div>"
      ],
      "text/plain": [
       "         program_date  content_id     channel\n",
       "0 2020-06-10 08:00:00           1  LC-Channel\n",
       "1 2020-05-11 12:00:00           2  LC-Channel\n",
       "2 2020-05-12 12:00:00           3  LC-Channel\n",
       "3 2020-05-13 14:00:00           4   Disney Ch\n",
       "4 2020-06-18 14:00:00           4   Disney Ch\n",
       "5 2020-07-15 16:00:00           5   Disney Ch"
      ]
     },
     "execution_count": 34,
     "metadata": {},
     "output_type": "execute_result"
    }
   ],
   "source": [
    "tv_program"
   ]
  },
  {
   "cell_type": "code",
   "execution_count": 35,
   "metadata": {},
   "outputs": [
    {
     "data": {
      "text/html": [
       "<div>\n",
       "<style scoped>\n",
       "    .dataframe tbody tr th:only-of-type {\n",
       "        vertical-align: middle;\n",
       "    }\n",
       "\n",
       "    .dataframe tbody tr th {\n",
       "        vertical-align: top;\n",
       "    }\n",
       "\n",
       "    .dataframe thead th {\n",
       "        text-align: right;\n",
       "    }\n",
       "</style>\n",
       "<table border=\"1\" class=\"dataframe\">\n",
       "  <thead>\n",
       "    <tr style=\"text-align: right;\">\n",
       "      <th></th>\n",
       "      <th>content_id</th>\n",
       "      <th>title</th>\n",
       "      <th>Kids_content</th>\n",
       "      <th>content_type</th>\n",
       "    </tr>\n",
       "  </thead>\n",
       "  <tbody>\n",
       "    <tr>\n",
       "      <th>0</th>\n",
       "      <td>1</td>\n",
       "      <td>Leetcode Movie</td>\n",
       "      <td>N</td>\n",
       "      <td>Movies</td>\n",
       "    </tr>\n",
       "    <tr>\n",
       "      <th>1</th>\n",
       "      <td>2</td>\n",
       "      <td>Alg. for Kids</td>\n",
       "      <td>Y</td>\n",
       "      <td>Series</td>\n",
       "    </tr>\n",
       "    <tr>\n",
       "      <th>2</th>\n",
       "      <td>3</td>\n",
       "      <td>Database Sols</td>\n",
       "      <td>N</td>\n",
       "      <td>Series</td>\n",
       "    </tr>\n",
       "    <tr>\n",
       "      <th>3</th>\n",
       "      <td>4</td>\n",
       "      <td>Aladdin</td>\n",
       "      <td>Y</td>\n",
       "      <td>Movies</td>\n",
       "    </tr>\n",
       "    <tr>\n",
       "      <th>4</th>\n",
       "      <td>5</td>\n",
       "      <td>Cinderella</td>\n",
       "      <td>Y</td>\n",
       "      <td>Movies</td>\n",
       "    </tr>\n",
       "  </tbody>\n",
       "</table>\n",
       "</div>"
      ],
      "text/plain": [
       "  content_id           title Kids_content content_type\n",
       "0          1  Leetcode Movie            N       Movies\n",
       "1          2   Alg. for Kids            Y       Series\n",
       "2          3   Database Sols            N       Series\n",
       "3          4         Aladdin            Y       Movies\n",
       "4          5      Cinderella            Y       Movies"
      ]
     },
     "execution_count": 35,
     "metadata": {},
     "output_type": "execute_result"
    }
   ],
   "source": [
    "content"
   ]
  },
  {
   "cell_type": "code",
   "execution_count": 40,
   "metadata": {},
   "outputs": [],
   "source": [
    "def friendly_movies(tv_program: pd.DataFrame, content: pd.DataFrame) -> pd.DataFrame:\n",
    "    content[\"content_id\"] = content[\"content_id\"].astype(int)\n",
    "    merged = tv_program.merge(content, on=\"content_id\", how=\"inner\")\n",
    "    merged = merged[(merged[\"program_date\"].dt.year == 2020) & (merged[\"program_date\"].dt.month == 6)]\n",
    "    result = merged[(merged[\"Kids_content\"] == 'Y') & (merged[\"content_type\"] == \"Movies\")]\n",
    "    result = result.drop_duplicates(subset=\"content_id\")\n",
    "    return result[[\"title\"]]"
   ]
  },
  {
   "cell_type": "code",
   "execution_count": 41,
   "metadata": {},
   "outputs": [
    {
     "data": {
      "text/html": [
       "<div>\n",
       "<style scoped>\n",
       "    .dataframe tbody tr th:only-of-type {\n",
       "        vertical-align: middle;\n",
       "    }\n",
       "\n",
       "    .dataframe tbody tr th {\n",
       "        vertical-align: top;\n",
       "    }\n",
       "\n",
       "    .dataframe thead th {\n",
       "        text-align: right;\n",
       "    }\n",
       "</style>\n",
       "<table border=\"1\" class=\"dataframe\">\n",
       "  <thead>\n",
       "    <tr style=\"text-align: right;\">\n",
       "      <th></th>\n",
       "      <th>title</th>\n",
       "    </tr>\n",
       "  </thead>\n",
       "  <tbody>\n",
       "    <tr>\n",
       "      <th>4</th>\n",
       "      <td>Aladdin</td>\n",
       "    </tr>\n",
       "  </tbody>\n",
       "</table>\n",
       "</div>"
      ],
      "text/plain": [
       "     title\n",
       "4  Aladdin"
      ]
     },
     "execution_count": 41,
     "metadata": {},
     "output_type": "execute_result"
    }
   ],
   "source": [
    "friendly_movies(tv_program, content)"
   ]
  },
  {
   "cell_type": "markdown",
   "metadata": {},
   "source": [
    "## Test scripts"
   ]
  },
  {
   "cell_type": "code",
   "execution_count": 21,
   "metadata": {},
   "outputs": [],
   "source": [
    "merged = tv_program.merge(content, on=\"content_id\", how=\"inner\")"
   ]
  },
  {
   "cell_type": "code",
   "execution_count": 22,
   "metadata": {},
   "outputs": [
    {
     "data": {
      "text/html": [
       "<div>\n",
       "<style scoped>\n",
       "    .dataframe tbody tr th:only-of-type {\n",
       "        vertical-align: middle;\n",
       "    }\n",
       "\n",
       "    .dataframe tbody tr th {\n",
       "        vertical-align: top;\n",
       "    }\n",
       "\n",
       "    .dataframe thead th {\n",
       "        text-align: right;\n",
       "    }\n",
       "</style>\n",
       "<table border=\"1\" class=\"dataframe\">\n",
       "  <thead>\n",
       "    <tr style=\"text-align: right;\">\n",
       "      <th></th>\n",
       "      <th>program_date</th>\n",
       "      <th>content_id</th>\n",
       "      <th>channel</th>\n",
       "      <th>title</th>\n",
       "      <th>Kids_content</th>\n",
       "      <th>content_type</th>\n",
       "    </tr>\n",
       "  </thead>\n",
       "  <tbody>\n",
       "    <tr>\n",
       "      <th>0</th>\n",
       "      <td>2020-06-10 08:00:00</td>\n",
       "      <td>1</td>\n",
       "      <td>LC-Channel</td>\n",
       "      <td>Leetcode Movie</td>\n",
       "      <td>N</td>\n",
       "      <td>Movies</td>\n",
       "    </tr>\n",
       "    <tr>\n",
       "      <th>1</th>\n",
       "      <td>2020-05-11 12:00:00</td>\n",
       "      <td>2</td>\n",
       "      <td>LC-Channel</td>\n",
       "      <td>Alg. for Kids</td>\n",
       "      <td>Y</td>\n",
       "      <td>Series</td>\n",
       "    </tr>\n",
       "    <tr>\n",
       "      <th>2</th>\n",
       "      <td>2020-05-12 12:00:00</td>\n",
       "      <td>3</td>\n",
       "      <td>LC-Channel</td>\n",
       "      <td>Database Sols</td>\n",
       "      <td>N</td>\n",
       "      <td>Series</td>\n",
       "    </tr>\n",
       "    <tr>\n",
       "      <th>3</th>\n",
       "      <td>2020-05-13 14:00:00</td>\n",
       "      <td>4</td>\n",
       "      <td>Disney Ch</td>\n",
       "      <td>Aladdin</td>\n",
       "      <td>Y</td>\n",
       "      <td>Movies</td>\n",
       "    </tr>\n",
       "    <tr>\n",
       "      <th>4</th>\n",
       "      <td>2020-06-18 14:00:00</td>\n",
       "      <td>4</td>\n",
       "      <td>Disney Ch</td>\n",
       "      <td>Aladdin</td>\n",
       "      <td>Y</td>\n",
       "      <td>Movies</td>\n",
       "    </tr>\n",
       "    <tr>\n",
       "      <th>5</th>\n",
       "      <td>2020-07-15 16:00:00</td>\n",
       "      <td>5</td>\n",
       "      <td>Disney Ch</td>\n",
       "      <td>Cinderella</td>\n",
       "      <td>Y</td>\n",
       "      <td>Movies</td>\n",
       "    </tr>\n",
       "  </tbody>\n",
       "</table>\n",
       "</div>"
      ],
      "text/plain": [
       "         program_date content_id     channel           title Kids_content  \\\n",
       "0 2020-06-10 08:00:00          1  LC-Channel  Leetcode Movie            N   \n",
       "1 2020-05-11 12:00:00          2  LC-Channel   Alg. for Kids            Y   \n",
       "2 2020-05-12 12:00:00          3  LC-Channel   Database Sols            N   \n",
       "3 2020-05-13 14:00:00          4   Disney Ch         Aladdin            Y   \n",
       "4 2020-06-18 14:00:00          4   Disney Ch         Aladdin            Y   \n",
       "5 2020-07-15 16:00:00          5   Disney Ch      Cinderella            Y   \n",
       "\n",
       "  content_type  \n",
       "0       Movies  \n",
       "1       Series  \n",
       "2       Series  \n",
       "3       Movies  \n",
       "4       Movies  \n",
       "5       Movies  "
      ]
     },
     "execution_count": 22,
     "metadata": {},
     "output_type": "execute_result"
    }
   ],
   "source": [
    "merged"
   ]
  },
  {
   "cell_type": "code",
   "execution_count": 25,
   "metadata": {},
   "outputs": [],
   "source": [
    "merged = merged[(merged[\"program_date\"].dt.year == 2020) & (merged[\"program_date\"].dt.month == 6)]"
   ]
  },
  {
   "cell_type": "code",
   "execution_count": 26,
   "metadata": {},
   "outputs": [
    {
     "data": {
      "text/html": [
       "<div>\n",
       "<style scoped>\n",
       "    .dataframe tbody tr th:only-of-type {\n",
       "        vertical-align: middle;\n",
       "    }\n",
       "\n",
       "    .dataframe tbody tr th {\n",
       "        vertical-align: top;\n",
       "    }\n",
       "\n",
       "    .dataframe thead th {\n",
       "        text-align: right;\n",
       "    }\n",
       "</style>\n",
       "<table border=\"1\" class=\"dataframe\">\n",
       "  <thead>\n",
       "    <tr style=\"text-align: right;\">\n",
       "      <th></th>\n",
       "      <th>program_date</th>\n",
       "      <th>content_id</th>\n",
       "      <th>channel</th>\n",
       "      <th>title</th>\n",
       "      <th>Kids_content</th>\n",
       "      <th>content_type</th>\n",
       "    </tr>\n",
       "  </thead>\n",
       "  <tbody>\n",
       "    <tr>\n",
       "      <th>0</th>\n",
       "      <td>2020-06-10 08:00:00</td>\n",
       "      <td>1</td>\n",
       "      <td>LC-Channel</td>\n",
       "      <td>Leetcode Movie</td>\n",
       "      <td>N</td>\n",
       "      <td>Movies</td>\n",
       "    </tr>\n",
       "    <tr>\n",
       "      <th>4</th>\n",
       "      <td>2020-06-18 14:00:00</td>\n",
       "      <td>4</td>\n",
       "      <td>Disney Ch</td>\n",
       "      <td>Aladdin</td>\n",
       "      <td>Y</td>\n",
       "      <td>Movies</td>\n",
       "    </tr>\n",
       "  </tbody>\n",
       "</table>\n",
       "</div>"
      ],
      "text/plain": [
       "         program_date content_id     channel           title Kids_content  \\\n",
       "0 2020-06-10 08:00:00          1  LC-Channel  Leetcode Movie            N   \n",
       "4 2020-06-18 14:00:00          4   Disney Ch         Aladdin            Y   \n",
       "\n",
       "  content_type  \n",
       "0       Movies  \n",
       "4       Movies  "
      ]
     },
     "execution_count": 26,
     "metadata": {},
     "output_type": "execute_result"
    }
   ],
   "source": [
    "merged"
   ]
  },
  {
   "cell_type": "code",
   "execution_count": 27,
   "metadata": {},
   "outputs": [],
   "source": [
    "result = merged[merged[\"Kids_content\"] == \"Y\"]"
   ]
  },
  {
   "cell_type": "code",
   "execution_count": 28,
   "metadata": {},
   "outputs": [
    {
     "data": {
      "text/html": [
       "<div>\n",
       "<style scoped>\n",
       "    .dataframe tbody tr th:only-of-type {\n",
       "        vertical-align: middle;\n",
       "    }\n",
       "\n",
       "    .dataframe tbody tr th {\n",
       "        vertical-align: top;\n",
       "    }\n",
       "\n",
       "    .dataframe thead th {\n",
       "        text-align: right;\n",
       "    }\n",
       "</style>\n",
       "<table border=\"1\" class=\"dataframe\">\n",
       "  <thead>\n",
       "    <tr style=\"text-align: right;\">\n",
       "      <th></th>\n",
       "      <th>program_date</th>\n",
       "      <th>content_id</th>\n",
       "      <th>channel</th>\n",
       "      <th>title</th>\n",
       "      <th>Kids_content</th>\n",
       "      <th>content_type</th>\n",
       "    </tr>\n",
       "  </thead>\n",
       "  <tbody>\n",
       "    <tr>\n",
       "      <th>4</th>\n",
       "      <td>2020-06-18 14:00:00</td>\n",
       "      <td>4</td>\n",
       "      <td>Disney Ch</td>\n",
       "      <td>Aladdin</td>\n",
       "      <td>Y</td>\n",
       "      <td>Movies</td>\n",
       "    </tr>\n",
       "  </tbody>\n",
       "</table>\n",
       "</div>"
      ],
      "text/plain": [
       "         program_date content_id    channel    title Kids_content content_type\n",
       "4 2020-06-18 14:00:00          4  Disney Ch  Aladdin            Y       Movies"
      ]
     },
     "execution_count": 28,
     "metadata": {},
     "output_type": "execute_result"
    }
   ],
   "source": [
    "result"
   ]
  },
  {
   "cell_type": "code",
   "execution_count": 30,
   "metadata": {},
   "outputs": [],
   "source": [
    "result = result.drop_duplicates(subset=\"content_id\")"
   ]
  },
  {
   "cell_type": "code",
   "execution_count": 31,
   "metadata": {},
   "outputs": [
    {
     "data": {
      "text/html": [
       "<div>\n",
       "<style scoped>\n",
       "    .dataframe tbody tr th:only-of-type {\n",
       "        vertical-align: middle;\n",
       "    }\n",
       "\n",
       "    .dataframe tbody tr th {\n",
       "        vertical-align: top;\n",
       "    }\n",
       "\n",
       "    .dataframe thead th {\n",
       "        text-align: right;\n",
       "    }\n",
       "</style>\n",
       "<table border=\"1\" class=\"dataframe\">\n",
       "  <thead>\n",
       "    <tr style=\"text-align: right;\">\n",
       "      <th></th>\n",
       "      <th>title</th>\n",
       "    </tr>\n",
       "  </thead>\n",
       "  <tbody>\n",
       "    <tr>\n",
       "      <th>4</th>\n",
       "      <td>Aladdin</td>\n",
       "    </tr>\n",
       "  </tbody>\n",
       "</table>\n",
       "</div>"
      ],
      "text/plain": [
       "     title\n",
       "4  Aladdin"
      ]
     },
     "execution_count": 31,
     "metadata": {},
     "output_type": "execute_result"
    }
   ],
   "source": [
    "result[[\"title\"]]"
   ]
  },
  {
   "cell_type": "code",
   "execution_count": null,
   "metadata": {},
   "outputs": [],
   "source": []
  }
 ],
 "metadata": {
  "kernelspec": {
   "display_name": ".venv",
   "language": "python",
   "name": "python3"
  },
  "language_info": {
   "codemirror_mode": {
    "name": "ipython",
    "version": 3
   },
   "file_extension": ".py",
   "mimetype": "text/x-python",
   "name": "python",
   "nbconvert_exporter": "python",
   "pygments_lexer": "ipython3",
   "version": "3.12.3"
  }
 },
 "nbformat": 4,
 "nbformat_minor": 2
}
