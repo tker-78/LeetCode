{
 "cells": [
  {
   "cell_type": "markdown",
   "metadata": {},
   "source": [
    "# 643. Maximum Averate Subarray I\n",
    "[問題]()\n",
    "You are given an integer array nums consisting of n elements, and an integer k.\n",
    "\n",
    "Find a contiguous subarray whose length is equal to k that has the maximum average value and return this value. Any answer with a calculation error less than 10-5 will be accepted.\n",
    "\n",
    "## 解答の方針\n",
    "ポインタとループを使う\n",
    "\n",
    "\n",
    "## 実装"
   ]
  },
  {
   "cell_type": "code",
   "execution_count": 37,
   "metadata": {},
   "outputs": [],
   "source": [
    "from typing import List\n",
    "class Solution(object):\n",
    "    def findMaxAverage(self, nums: List[int], k: int) -> float:\n",
    "        max_average = -float(\"inf\")\n",
    "        start = 0\n",
    "        val = []\n",
    "        while start < len(nums)-k:\n",
    "            for i in range(start, start+k):\n",
    "                val.append(nums[i])\n",
    "            ave = sum(val)/len(val)\n",
    "            if ave > max_average: max_average = ave\n",
    "            start += 1\n",
    "            val = []\n",
    "        \n",
    "        return max_average\n",
    "        \n"
   ]
  },
  {
   "cell_type": "code",
   "execution_count": 40,
   "metadata": {},
   "outputs": [],
   "source": [
    "# nums = [1,12,-5,-6,50,3]\n",
    "# k = 4\n",
    "nums = [5]\n",
    "k = 1"
   ]
  },
  {
   "cell_type": "code",
   "execution_count": 41,
   "metadata": {},
   "outputs": [
    {
     "name": "stdout",
     "output_type": "stream",
     "text": [
      "0\n"
     ]
    }
   ],
   "source": [
    "print(Solution().findMaxAverage(nums,k))"
   ]
  },
  {
   "cell_type": "markdown",
   "metadata": {},
   "source": [
    "## 改善\n",
    "上記のコードだとTime Limit Exceedeになる"
   ]
  },
  {
   "cell_type": "code",
   "execution_count": 42,
   "metadata": {},
   "outputs": [],
   "source": [
    "class Solution2(object):\n",
    "    def findMaxAverage(self, nums: List[int], k: int) -> float:\n",
    "        best = now = sum(nums[:k])\n",
    "        for i in range(k, len(nums)):\n",
    "            now += nums[i] - nums[i-k]\n",
    "            if now > best: best = now\n",
    "        return best/k\n",
    "        "
   ]
  },
  {
   "cell_type": "code",
   "execution_count": 43,
   "metadata": {},
   "outputs": [
    {
     "name": "stdout",
     "output_type": "stream",
     "text": [
      "5.0\n"
     ]
    }
   ],
   "source": [
    "print(Solution2().findMaxAverage(nums,k))"
   ]
  },
  {
   "cell_type": "code",
   "execution_count": null,
   "metadata": {},
   "outputs": [],
   "source": []
  }
 ],
 "metadata": {
  "kernelspec": {
   "display_name": ".venv",
   "language": "python",
   "name": "python3"
  },
  "language_info": {
   "codemirror_mode": {
    "name": "ipython",
    "version": 3
   },
   "file_extension": ".py",
   "mimetype": "text/x-python",
   "name": "python",
   "nbconvert_exporter": "python",
   "pygments_lexer": "ipython3",
   "version": "3.12.3"
  }
 },
 "nbformat": 4,
 "nbformat_minor": 2
}
