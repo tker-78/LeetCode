{
 "cells": [
  {
   "cell_type": "markdown",
   "metadata": {},
   "source": [
    "# 328. Odd Even Linked List\n",
    "[問題](https://leetcode.com/problems/odd-even-linked-list/?envType=study-plan-v2&envId=leetcode-75)  \n",
    "\n",
    "Given the head of a singly linked list, group all the nodes with odd indices together followed by the nodes with even indices, and return the reordered list.\n",
    "\n",
    "The first node is considered odd, and the second node is even, and so on.\n",
    "\n",
    "Note that the relative order inside both the even and odd groups should remain as it was in the input.\n",
    "\n",
    "You must solve the problem in O(1) extra space complexity and O(n) time complexity.\n",
    "\n",
    "## 回答の方針\n",
    "LinkedListを使って、oddとevenを分離する。\n",
    "そのためには、index2をindex0の次に挿入して、その次にindex4をindex1の次に挿入する。\n",
    "そのために、指定した要素を移動させる関数を作成して、それをtailまで繰り返すことで実現できる。\n",
    "つまり、n / 2 - 1の位置に移動する関数が必要。\n",
    "\n",
    "\n",
    "## 実装"
   ]
  },
  {
   "cell_type": "code",
   "execution_count": 29,
   "metadata": {},
   "outputs": [],
   "source": [
    "from typing import Optional\n",
    "class ListNode(object):\n",
    "    def __init__(self, val=0, next=None):\n",
    "        self.val = val\n",
    "        self.next = next\n",
    "\n",
    "\n",
    "class Solution(object):\n",
    "    def oddEvenList(self, head: Optional[ListNode]) -> Optional[ListNode]:\n",
    "        if head is None:\n",
    "            return None\n",
    "        \n",
    "        odd = ListNode(0)\n",
    "        even = ListNode(0)\n",
    "        oddHead = odd\n",
    "        evenHead = even\n",
    "\n",
    "        isOdd = True\n",
    "\n",
    "        while head:\n",
    "            if isOdd:\n",
    "                odd.next = head\n",
    "                odd = odd.next\n",
    "            else:\n",
    "                even.next = head\n",
    "                even = even.next\n",
    "            \n",
    "            isOdd = not isOdd\n",
    "            head = head.next\n",
    "        even.next = None\n",
    "        odd.next = evenHead.next\n",
    "\n",
    "        return oddHead.next\n"
   ]
  },
  {
   "cell_type": "code",
   "execution_count": 30,
   "metadata": {},
   "outputs": [],
   "source": [
    "# head = [1,3,4,7,1,2,6]\n",
    "head = ListNode(1)\n",
    "head_tail = head\n",
    "head_tail.next = ListNode(3)\n",
    "head_tail = head_tail.next\n",
    "head_tail.next = ListNode(4)\n",
    "head_tail = head_tail.next\n",
    "head_tail.next = ListNode(7)\n",
    "head_tail = head_tail.next\n",
    "head_tail.next = ListNode(1)\n",
    "head_tail = head_tail.next\n",
    "head_tail.next = ListNode(2)\n",
    "head_tail = head_tail.next\n",
    "head_tail.next = ListNode(6)\n",
    "head_tail = head_tail.next"
   ]
  },
  {
   "cell_type": "code",
   "execution_count": 31,
   "metadata": {},
   "outputs": [],
   "source": [
    "answer = Solution().oddEvenList(head)"
   ]
  },
  {
   "cell_type": "code",
   "execution_count": 33,
   "metadata": {},
   "outputs": [
    {
     "name": "stdout",
     "output_type": "stream",
     "text": [
      "1\n",
      "4\n",
      "1\n",
      "6\n",
      "3\n",
      "7\n",
      "2\n"
     ]
    }
   ],
   "source": [
    "print(answer.val)\n",
    "print(answer.next.val)\n",
    "print(answer.next.next.val)\n",
    "print(answer.next.next.next.val)\n",
    "print(answer.next.next.next.next.val)\n",
    "print(answer.next.next.next.next.next.val)\n",
    "print(answer.next.next.next.next.next.next.val)"
   ]
  },
  {
   "cell_type": "markdown",
   "metadata": {},
   "source": [
    "## 考察\n",
    "全然わからなかったので、回答を見て実装。\n",
    "でも上記のコードで正解できた。\n",
    "ポイントは、ListNode(0)で作成したLinkedListは0から始まるため、連結の際に、evenHead.nextとすることと、\n",
    "oddHead, evenHeadで各LinkedListの先頭位置を記憶しておくこと。"
   ]
  },
  {
   "cell_type": "code",
   "execution_count": null,
   "metadata": {},
   "outputs": [],
   "source": []
  },
  {
   "cell_type": "code",
   "execution_count": null,
   "metadata": {},
   "outputs": [],
   "source": []
  },
  {
   "cell_type": "code",
   "execution_count": 15,
   "metadata": {},
   "outputs": [],
   "source": [
    "class Solution2(object):\n",
    "    def oddEvenList(self, head: Optional[ListNode]) -> Optional[ListNode]:\n",
    "        pass"
   ]
  },
  {
   "cell_type": "code",
   "execution_count": 16,
   "metadata": {},
   "outputs": [],
   "source": [
    "# head = [1,3,4,7,1,2,6]\n",
    "head = ListNode(1)\n",
    "head_tail = head\n",
    "head_tail.next = ListNode(3)\n",
    "head_tail = head_tail.next\n",
    "head_tail.next = ListNode(4)\n",
    "head_tail = head_tail.next\n",
    "head_tail.next = ListNode(7)\n",
    "head_tail = head_tail.next\n",
    "head_tail.next = ListNode(1)\n",
    "head_tail = head_tail.next\n",
    "head_tail.next = ListNode(2)\n",
    "head_tail = head_tail.next\n",
    "head_tail.next = ListNode(6)\n",
    "head_tail = head_tail.next"
   ]
  },
  {
   "cell_type": "code",
   "execution_count": 19,
   "metadata": {},
   "outputs": [],
   "source": [
    "answer = Solution2().oddEvenList(head)"
   ]
  },
  {
   "cell_type": "code",
   "execution_count": 20,
   "metadata": {},
   "outputs": [
    {
     "name": "stdout",
     "output_type": "stream",
     "text": [
      "1\n"
     ]
    }
   ],
   "source": [
    "print(answer.val)"
   ]
  },
  {
   "cell_type": "code",
   "execution_count": 21,
   "metadata": {},
   "outputs": [
    {
     "name": "stdout",
     "output_type": "stream",
     "text": [
      "3\n"
     ]
    }
   ],
   "source": [
    "print(answer.next.val)"
   ]
  },
  {
   "cell_type": "code",
   "execution_count": 22,
   "metadata": {},
   "outputs": [
    {
     "name": "stdout",
     "output_type": "stream",
     "text": [
      "4\n"
     ]
    }
   ],
   "source": [
    "print(answer.next.next.val)"
   ]
  },
  {
   "cell_type": "code",
   "execution_count": null,
   "metadata": {},
   "outputs": [],
   "source": []
  }
 ],
 "metadata": {
  "kernelspec": {
   "display_name": ".venv",
   "language": "python",
   "name": "python3"
  },
  "language_info": {
   "codemirror_mode": {
    "name": "ipython",
    "version": 3
   },
   "file_extension": ".py",
   "mimetype": "text/x-python",
   "name": "python",
   "nbconvert_exporter": "python",
   "pygments_lexer": "ipython3",
   "version": "3.12.3"
  }
 },
 "nbformat": 4,
 "nbformat_minor": 2
}
