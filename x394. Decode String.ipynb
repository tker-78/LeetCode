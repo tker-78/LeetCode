{
 "cells": [
  {
   "cell_type": "markdown",
   "metadata": {},
   "source": [
    "# 394. Decode String\n",
    "[問題](https://leetcode.com/problems/decode-string/?envType=study-plan-v2&envId=leetcode-75)  \n",
    "\n",
    "Given an encoded string, return its decoded string.\n",
    "\n",
    "The encoding rule is: k[encoded_string], where the encoded_string inside the square brackets is being repeated exactly k times. Note that k is guaranteed to be a positive integer.\n",
    "\n",
    "You may assume that the input string is always valid; there are no extra white spaces, square brackets are well-formed, etc. Furthermore, you may assume that the original data does not contain any digits and that digits are only for those repeat numbers, k. For example, there will not be input like 3a or 2[4].\n",
    "\n",
    "The test cases are generated so that the length of the output will never exceed 105.\n",
    "\n",
    "## 回答の方針\n",
    "一番内側の[]を探して、そこから順番に外側に展開していく。\n",
    "つまり、index()で最初の]を見つけて、その左側を処理する。\n",
    "これもstackを使う。\n",
    "\n",
    "\n",
    "\n",
    "\n",
    "## 実装"
   ]
  },
  {
   "cell_type": "code",
   "execution_count": 20,
   "metadata": {},
   "outputs": [],
   "source": [
    "class Solution(object):\n",
    "    def decodeString(self, s: str) -> str:\n",
    "        st = []\n",
    "        pass\n",
    "\n"
   ]
  },
  {
   "cell_type": "code",
   "execution_count": 21,
   "metadata": {},
   "outputs": [],
   "source": [
    "# s = \"3[a]2[bc]\"\n",
    "s = \"3[a2[c]]\""
   ]
  },
  {
   "cell_type": "code",
   "execution_count": 22,
   "metadata": {},
   "outputs": [
    {
     "name": "stdout",
     "output_type": "stream",
     "text": [
      "6\n",
      "4\n",
      "2\n",
      "None\n"
     ]
    }
   ],
   "source": [
    "print(Solution().decodeString(s))"
   ]
  },
  {
   "cell_type": "markdown",
   "metadata": {},
   "source": [
    "## 考察\n",
    "わからなかった。  \n",
    "回答例は下記の通り。"
   ]
  },
  {
   "cell_type": "code",
   "execution_count": 4,
   "metadata": {},
   "outputs": [],
   "source": [
    "from typing import List\n",
    "class Solution2(object):\n",
    "    def decodeString(self, s: str) -> str:\n",
    "        st = []\n",
    "        s_list = list(s)\n",
    "        print(s_list)\n",
    "        for i, c in enumerate(s_list):\n",
    "            if c == \"]\":\n",
    "                decoded_string = list()\n",
    "                while st:\n",
    "                    #　ここがstackの処理\n",
    "                    ## 文字列の取得\n",
    "                    if st[-1] != \"[\":\n",
    "                        decoded_string.append(st.pop())\n",
    "                    \n",
    "                    ## kの取得\n",
    "                    ## \"[\"をstから削除\n",
    "                    st.pop()\n",
    "                    base, k = 1, 0\n",
    "                    while st and st[-1].isdigit():\n",
    "                        k = k + int(st.pop()) * base\n",
    "                        base *= 10\n",
    "                    \n",
    "                    ## decodeの実行\n",
    "                    st.append(decoded_string)\n",
    "\n",
    "\n",
    "            else:\n",
    "                # スタックに入れる\n",
    "                st.append(c)\n",
    "\n",
    "        return st\n",
    "        \n",
    "\n",
    "\n",
    "\n",
    "            \n",
    "\n",
    "\n",
    "\n"
   ]
  },
  {
   "cell_type": "code",
   "execution_count": 5,
   "metadata": {},
   "outputs": [],
   "source": [
    "s = \"3[a2[c]]\"\n",
    "# s = \"3[a]2[bc]\""
   ]
  },
  {
   "cell_type": "code",
   "execution_count": 7,
   "metadata": {},
   "outputs": [
    {
     "name": "stdout",
     "output_type": "stream",
     "text": [
      "['3', '[', 'a', '2', '[', 'c', ']', ']']\n"
     ]
    },
    {
     "ename": "IndexError",
     "evalue": "pop from empty list",
     "output_type": "error",
     "traceback": [
      "\u001b[1;31m---------------------------------------------------------------------------\u001b[0m",
      "\u001b[1;31mIndexError\u001b[0m                                Traceback (most recent call last)",
      "Cell \u001b[1;32mIn[7], line 1\u001b[0m\n\u001b[1;32m----> 1\u001b[0m \u001b[38;5;28mprint\u001b[39m(\u001b[43mSolution2\u001b[49m\u001b[43m(\u001b[49m\u001b[43m)\u001b[49m\u001b[38;5;241;43m.\u001b[39;49m\u001b[43mdecodeString\u001b[49m\u001b[43m(\u001b[49m\u001b[43ms\u001b[49m\u001b[43m)\u001b[49m)\n",
      "Cell \u001b[1;32mIn[4], line 18\u001b[0m, in \u001b[0;36mSolution2.decodeString\u001b[1;34m(self, s)\u001b[0m\n\u001b[0;32m     14\u001b[0m     decoded_string\u001b[38;5;241m.\u001b[39mappend(st\u001b[38;5;241m.\u001b[39mpop())\n\u001b[0;32m     16\u001b[0m \u001b[38;5;66;03m## kの取得\u001b[39;00m\n\u001b[0;32m     17\u001b[0m \u001b[38;5;66;03m## \"[\"をstから削除\u001b[39;00m\n\u001b[1;32m---> 18\u001b[0m \u001b[43mst\u001b[49m\u001b[38;5;241;43m.\u001b[39;49m\u001b[43mpop\u001b[49m\u001b[43m(\u001b[49m\u001b[43m)\u001b[49m\n\u001b[0;32m     19\u001b[0m base, k \u001b[38;5;241m=\u001b[39m \u001b[38;5;241m1\u001b[39m, \u001b[38;5;241m0\u001b[39m\n\u001b[0;32m     20\u001b[0m \u001b[38;5;28;01mwhile\u001b[39;00m st \u001b[38;5;129;01mand\u001b[39;00m st[\u001b[38;5;241m-\u001b[39m\u001b[38;5;241m1\u001b[39m]\u001b[38;5;241m.\u001b[39misdigit():\n",
      "\u001b[1;31mIndexError\u001b[0m: pop from empty list"
     ]
    }
   ],
   "source": [
    "print(Solution2().decodeString(s))"
   ]
  },
  {
   "cell_type": "markdown",
   "metadata": {},
   "source": [
    "## 考察2\n",
    "実装難しい。  \n",
    "ちょっと時間を空けてやり直す。"
   ]
  }
 ],
 "metadata": {
  "kernelspec": {
   "display_name": ".venv",
   "language": "python",
   "name": "python3"
  },
  "language_info": {
   "codemirror_mode": {
    "name": "ipython",
    "version": 3
   },
   "file_extension": ".py",
   "mimetype": "text/x-python",
   "name": "python",
   "nbconvert_exporter": "python",
   "pygments_lexer": "ipython3",
   "version": "3.12.3"
  }
 },
 "nbformat": 4,
 "nbformat_minor": 2
}
