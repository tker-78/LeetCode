{
 "cells": [
  {
   "cell_type": "markdown",
   "metadata": {},
   "source": [
    "# 547. Number of Provinces\n",
    "[問題](https://leetcode.com/problems/number-of-provinces/?envType=study-plan-v2&envId=leetcode-75)  \n",
    "\n",
    "There are n cities. Some of them are connected, while some are not. If city a is connected directly with city b, and city b is connected directly with city c, then city a is connected indirectly with city c.\n",
    "\n",
    "A province is a group of directly or indirectly connected cities and no other cities outside of the group.\n",
    "\n",
    "You are given an n x n matrix isConnected where isConnected[i][j] = 1 if the ith city and the jth city are directly connected, and isConnected[i][j] = 0 otherwise.\n",
    "\n",
    "Return the total number of provinces.\n",
    "\n",
    "## 回答の方針\n",
    "\n",
    "\n",
    "## 実装"
   ]
  },
  {
   "cell_type": "code",
   "execution_count": 1,
   "metadata": {},
   "outputs": [],
   "source": [
    "from typing import List\n",
    "class Solution(object):\n",
    "    def findCircleNum(self, isConnected: List[List[int]]) -> int:\n",
    "        def dfs(node: int, isConnected: List[List[int]], visit: List[bool]):\n",
    "            \"\"\"\n",
    "            \n",
    "            \"\"\"\n",
    "            visit[node] = True\n",
    "            for i, item in enumerate(isConnected[node]):\n",
    "                if item == 1 and not visit[i]:\n",
    "                    dfs(i, isConnected, visit)\n",
    "\n",
    "        n = len(isConnected)\n",
    "        self.visit = [False] * n\n",
    "        components = 0\n",
    "        stack = [0]\n",
    "\n",
    "        while stack:\n",
    "            node = stack.pop(0)\n",
    "            for item in isConnected[node]:\n",
    "                if not self.visit[item]:\n",
    "                    components += 1\n",
    "                    dfs(item, isConnected, self.visit)\n",
    "        \n",
    "        return components\n"
   ]
  },
  {
   "cell_type": "code",
   "execution_count": 2,
   "metadata": {},
   "outputs": [],
   "source": [
    "# isConnected = [[1,1,0],[1,1,0],[0,0,1]]\n",
    "isConnected = [[1,0,0],[0,1,0],[0,0,1]]\n"
   ]
  },
  {
   "cell_type": "code",
   "execution_count": 3,
   "metadata": {},
   "outputs": [
    {
     "name": "stdout",
     "output_type": "stream",
     "text": [
      "2\n"
     ]
    }
   ],
   "source": [
    "print(Solution().findCircleNum(isConnected))"
   ]
  },
  {
   "cell_type": "markdown",
   "metadata": {},
   "source": [
    "## 考察\n",
    "全然わからなかった。"
   ]
  }
 ],
 "metadata": {
  "kernelspec": {
   "display_name": ".venv",
   "language": "python",
   "name": "python3"
  },
  "language_info": {
   "codemirror_mode": {
    "name": "ipython",
    "version": 3
   },
   "file_extension": ".py",
   "mimetype": "text/x-python",
   "name": "python",
   "nbconvert_exporter": "python",
   "pygments_lexer": "ipython3",
   "version": "3.12.3"
  }
 },
 "nbformat": 4,
 "nbformat_minor": 2
}
