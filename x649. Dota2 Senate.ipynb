{
 "cells": [
  {
   "cell_type": "markdown",
   "metadata": {},
   "source": [
    "# 649. Dota2 Senate\n",
    "[問題](https://leetcode.com/problems/dota2-senate/?envType=study-plan-v2&envId=leetcode-75)  \n",
    "\n",
    "In the world of Dota2, there are two parties: the Radiant and the Dire.\n",
    "\n",
    "The Dota2 senate consists of senators coming from two parties. Now the Senate wants to decide on a change in the Dota2 game. The voting for this change is a round-based procedure. In each round, each senator can exercise one of the two rights:\n",
    "\n",
    "Ban one senator's right: A senator can make another senator lose all his rights in this and all the following rounds.\n",
    "Announce the victory: If this senator found the senators who still have rights to vote are all from the same party, he can announce the victory and decide on the change in the game.\n",
    "Given a string senate representing each senator's party belonging. The character 'R' and 'D' represent the Radiant party and the Dire party. Then if there are n senators, the size of the given string will be n.\n",
    "\n",
    "The round-based procedure starts from the first senator to the last senator in the given order. This procedure will last until the end of voting. All the senators who have lost their rights will be skipped during the procedure.\n",
    "\n",
    "Suppose every senator is smart enough and will play the best strategy for his own party. Predict which party will finally announce the victory and change the Dota2 game. The output should be \"Radiant\" or \"Dire\".\n",
    "\n",
    "## 回答の方針\n",
    "先頭を取り出して、先頭と異なるpartyがなければvictory, あれば次の一つを消す。\n",
    "要素が0になれば、最後に取り出したpartyが勝者になる。\n",
    "\n",
    "## 実装"
   ]
  },
  {
   "cell_type": "code",
   "execution_count": 45,
   "metadata": {},
   "outputs": [],
   "source": [
    "from collections import deque\n",
    "class Solution(object):\n",
    "    def predictPartyVictory(self, senate: str) -> str:\n",
    "        senate_list = deque(senate)\n",
    "        while len(senate_list) > 0:\n",
    "            current = senate_list[0]\n",
    "            if current == \"R\":\n",
    "                if \"D\" in senate_list:\n",
    "                    next = senate_list.index(\"D\")\n",
    "                    senate_list.remove(\"D\")\n",
    "                else:\n",
    "                    return \"R\"\n",
    "            elif current == \"D\":\n",
    "                if \"R\" in senate_list:\n",
    "                    next = senate_list.index(\"R\")\n",
    "                    senate_list.remove(\"R\")\n",
    "                else: \n",
    "                    return \"D\"\n",
    "            \n",
    "\n",
    "            \n",
    "\n"
   ]
  },
  {
   "cell_type": "code",
   "execution_count": 48,
   "metadata": {},
   "outputs": [],
   "source": [
    "senate = \"RDD\"\n",
    "# senate = \"DDRRR\""
   ]
  },
  {
   "cell_type": "code",
   "execution_count": 49,
   "metadata": {},
   "outputs": [
    {
     "name": "stdout",
     "output_type": "stream",
     "text": [
      "R\n"
     ]
    }
   ],
   "source": [
    "print(Solution().predictPartyVictory(senate))"
   ]
  },
  {
   "cell_type": "markdown",
   "metadata": {},
   "source": [
    "## 考察\n",
    "問題を正しく理解できていなかった。deque()を正しく使って書き直す。\n",
    "round1 -> 2 -> 3...を同じ配列内で表現する。\n",
    "\n",
    "senate = \"RDD\"の場合、\n",
    "```python\n",
    "r_queue:  [0] -> [3] -> []\n",
    "d_queue = [1,2] -> [2] -> [5] -> winner!\n",
    "\n",
    "\n",
    "```\n"
   ]
  },
  {
   "cell_type": "code",
   "execution_count": 59,
   "metadata": {},
   "outputs": [],
   "source": [
    "from collections import deque\n",
    "class Solution2(object):\n",
    "    def predictPartyVictory(self, senate: str) -> str:\n",
    "\n",
    "        n = len(senate)\n",
    "\n",
    "        r_queue = deque()\n",
    "        d_queue = deque()\n",
    "\n",
    "        for i, s in enumerate(senate):\n",
    "            if s == \"R\":\n",
    "                r_queue.append(i)\n",
    "            else:\n",
    "                d_queue.append(i)\n",
    "        while r_queue and d_queue:\n",
    "            r_turn = r_queue.popleft()\n",
    "            d_turn = d_queue.popleft()\n",
    "\n",
    "            if r_turn < d_turn:\n",
    "                r_queue.append(r_turn + n)\n",
    "            else:\n",
    "                d_queue.append(d_turn + n)\n",
    "        \n",
    "        return \"R\" if r_queue else \"D\"\n",
    "        \n",
    "\n",
    "\n",
    "\n"
   ]
  },
  {
   "cell_type": "code",
   "execution_count": 60,
   "metadata": {},
   "outputs": [],
   "source": [
    "denate = \"RDD\""
   ]
  },
  {
   "cell_type": "code",
   "execution_count": 61,
   "metadata": {},
   "outputs": [
    {
     "name": "stdout",
     "output_type": "stream",
     "text": [
      "D\n"
     ]
    }
   ],
   "source": [
    "print(Solution2().predictPartyVictory(senate))"
   ]
  },
  {
   "cell_type": "markdown",
   "metadata": {},
   "source": [
    "## 考察2\n",
    "上記のコードでOK.  \n",
    "ただし、ほかにも解放がたくさんあるようなので、この問題は未回答扱いにしておく。(ファイル名先頭にx)"
   ]
  }
 ],
 "metadata": {
  "kernelspec": {
   "display_name": ".venv",
   "language": "python",
   "name": "python3"
  },
  "language_info": {
   "codemirror_mode": {
    "name": "ipython",
    "version": 3
   },
   "file_extension": ".py",
   "mimetype": "text/x-python",
   "name": "python",
   "nbconvert_exporter": "python",
   "pygments_lexer": "ipython3",
   "version": "3.12.3"
  }
 },
 "nbformat": 4,
 "nbformat_minor": 2
}
