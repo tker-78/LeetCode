{
 "cells": [
  {
   "cell_type": "markdown",
   "metadata": {},
   "source": [
    "# 1004. Max Consecutive Ones III\n",
    "[問題]()\n",
    "\n",
    "Given a binary array nums and an integer k, return the maximum number of consecutive 1's in the array if you can flip at most k 0's.\n",
    "\n",
    "**Example 1:**\n",
    "```\n",
    "Input: nums = [1,1,1,0,0,0,1,1,1,1,0], k = 2\n",
    "Output: 6\n",
    "Explanation: [1,1,1,0,0,1,1,1,1,1,1]\n",
    "Bolded numbers were flipped from 0 to 1. The longest subarray is underlined.\n",
    "```\n",
    "\n",
    "**Example 2:**\n",
    "```\n",
    "Input: nums = [0,0,1,1,0,0,1,1,1,0,1,1,0,0,0,1,1,1,1], k = 3\n",
    "Output: 10\n",
    "Explanation: [0,0,1,1,1,1,1,1,1,1,1,1,0,0,0,1,1,1,1]\n",
    "Bolded numbers were flipped from 0 to 1. The longest subarray is underlined.\n",
    "```\n",
    "\n",
    "## 解答の方針\n",
    "sliding windowを使う。\n",
    "\n",
    "\n",
    "\n",
    "## 実装\n"
   ]
  },
  {
   "cell_type": "code",
   "execution_count": 39,
   "metadata": {},
   "outputs": [],
   "source": [
    "from typing import List\n",
    "class Solution(object):\n",
    "    def longestOnes(self, nums: List[int], k: int) -> int:\n",
    "        left = 0\n",
    "        for right in range(len(nums)):\n",
    "            k -= 1 - nums[right]\n",
    "        \n",
    "            if k < 0:\n",
    "                k += 1 - nums[left]\n",
    "                left += 1\n",
    "        return right - left + 1\n",
    "\n"
   ]
  },
  {
   "cell_type": "code",
   "execution_count": 40,
   "metadata": {},
   "outputs": [],
   "source": [
    "nums = [1,1,1,0,0,0,1,1,1,1,0]\n",
    "k = 2"
   ]
  },
  {
   "cell_type": "code",
   "execution_count": 41,
   "metadata": {},
   "outputs": [
    {
     "name": "stdout",
     "output_type": "stream",
     "text": [
      "6\n"
     ]
    }
   ],
   "source": [
    "print(Solution().longestOnes(nums, k))"
   ]
  },
  {
   "cell_type": "markdown",
   "metadata": {},
   "source": []
  },
  {
   "cell_type": "markdown",
   "metadata": {},
   "source": [
    "## 考察\n",
    "正直全くわからなかった。\n",
    "kはsubstringに許容される0の数なので、rightに0が出現したらkを減らす。\n",
    "kが0未満になったら、許容できる0はないので、leftを確認して、leftの要素が0であれば、\n",
    "windowから0がひとつ減るということなので、kを増やす。\n"
   ]
  }
 ],
 "metadata": {
  "kernelspec": {
   "display_name": "Python 3 (ipykernel)",
   "language": "python",
   "name": "python3"
  },
  "language_info": {
   "codemirror_mode": {
    "name": "ipython",
    "version": 3
   },
   "file_extension": ".py",
   "mimetype": "text/x-python",
   "name": "python",
   "nbconvert_exporter": "python",
   "pygments_lexer": "ipython3",
   "version": "3.12.3"
  }
 },
 "nbformat": 4,
 "nbformat_minor": 4
}
