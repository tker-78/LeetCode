{
 "cells": [
  {
   "cell_type": "markdown",
   "metadata": {},
   "source": [
    "# 1926. Nearest Exit from Entrance in Maze\n",
    "[問題](https://leetcode.com/problems/nearest-exit-from-entrance-in-maze/?envType=study-plan-v2&envId=leetcode-75)"
   ]
  },
  {
   "cell_type": "markdown",
   "metadata": {},
   "source": [
    "## 回答の方針\n",
    "BFSのカテゴリの問題なので、BFSで解くことを考える。\n",
    "幅優先探索ということは、スタックを使う。  \n",
    "collections.deque()を使う。  \n"
   ]
  },
  {
   "cell_type": "code",
   "execution_count": 2,
   "metadata": {},
   "outputs": [],
   "source": [
    "from typing import List\n",
    "import collections\n",
    "class Solution(object):\n",
    "    def nearestExit(self, maze: List[List[str]], entrance: List[int]) -> int:\n",
    "        rows, cols = len(maze), len(maze[0])\n",
    "        directions = ((1,0), (-1, 0), (0, 1), (0, -1)) #上、下、右、左\n",
    "\n",
    "        start_row, start_col = entrance\n",
    "        maze[start_row][start_col] = \"+\"\n",
    "\n",
    "\n",
    "        queue = collections.deque()\n",
    "        queue.append([start_row, start_col, 0]) # current_row, current_col, current_distance\n",
    "\n",
    "        while queue:\n",
    "            current_row, current_col, current_distance = queue.popleft()\n",
    "\n",
    "            for d in directions:\n",
    "                next_row = current_row + d[0]\n",
    "                next_col = current_col + d[1]\n",
    "\n",
    "                if 0 <= next_row < rows and 0 <= next_col < cols and maze[next_row][next_col] == \".\":\n",
    "\n",
    "                    # 出口の場合\n",
    "                    if 0 == next_row or next_row == rows - 1 or 0 == next_col or next_col == cols - 1:\n",
    "                        return current_distance + 1\n",
    "                    \n",
    "                    # 出口ではない場合\n",
    "                    maze[next_row][next_col] = \"+\"\n",
    "                    queue.append([next_row, next_col, current_distance + 1])\n",
    "\n",
    "        # すべてのチェックが完了\n",
    "        return -1\n",
    "\n",
    "\n"
   ]
  },
  {
   "cell_type": "code",
   "execution_count": 6,
   "metadata": {},
   "outputs": [],
   "source": [
    "# 1\n",
    "# maze = [[\"+\",\"+\",\".\",\"+\"],[\".\",\".\",\".\",\"+\"],[\"+\",\"+\",\"+\",\".\"]]\n",
    "# entrance = [1,2]\n",
    "\n",
    "\n",
    "# 2\n",
    "maze = [[\"+\",\"+\",\"+\"],[\".\",\".\",\".\"],[\"+\",\"+\",\"+\"]]\n",
    "entrance = [1,0]"
   ]
  },
  {
   "cell_type": "code",
   "execution_count": 7,
   "metadata": {},
   "outputs": [
    {
     "data": {
      "text/plain": [
       "2"
      ]
     },
     "execution_count": 7,
     "metadata": {},
     "output_type": "execute_result"
    }
   ],
   "source": [
    "Solution().nearestExit(maze, entrance)"
   ]
  },
  {
   "cell_type": "code",
   "execution_count": null,
   "metadata": {},
   "outputs": [],
   "source": []
  }
 ],
 "metadata": {
  "kernelspec": {
   "display_name": ".venv",
   "language": "python",
   "name": "python3"
  },
  "language_info": {
   "codemirror_mode": {
    "name": "ipython",
    "version": 3
   },
   "file_extension": ".py",
   "mimetype": "text/x-python",
   "name": "python",
   "nbconvert_exporter": "python",
   "pygments_lexer": "ipython3",
   "version": "3.12.3"
  }
 },
 "nbformat": 4,
 "nbformat_minor": 2
}
