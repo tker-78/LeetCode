{
 "cells": [
  {
   "cell_type": "code",
   "execution_count": null,
   "metadata": {},
   "outputs": [],
   "source": [
    "from typing import List\n",
    "class Solution443(object):\n",
    "    def compress(self, chars: List[str]) -> int:\n",
    "        char_list = {}\n",
    "        for char in chars:\n",
    "            if char not in char_list:\n",
    "                char_list[char] = 1\n",
    "            else:\n",
    "                char_list[char] += 1\n",
    "        print(char_list)\n",
    "\n",
    "        answer = []\n",
    "        for k, v in char_list.items():\n",
    "            answer.append(k)\n",
    "            if len(str(v)) > 1:\n",
    "                answer.extend(list(str(v)))\n",
    "            else:\n",
    "                answer.append(str(v))\n",
    "        print(answer)\n",
    "        chars = answer\n",
    "        return len(answer)"
   ]
  },
  {
   "cell_type": "code",
   "execution_count": 9,
   "metadata": {},
   "outputs": [
    {
     "name": "stdout",
     "output_type": "stream",
     "text": [
      "['1', '2', '3', '4', '5']\n"
     ]
    }
   ],
   "source": [
    "num = 12345\n",
    "splitted = list(str(num))\n",
    "print(splitted)"
   ]
  },
  {
   "cell_type": "code",
   "execution_count": 13,
   "metadata": {},
   "outputs": [
    {
     "name": "stdout",
     "output_type": "stream",
     "text": [
      "{'a': 1, 'b': 12}\n",
      "['a', '1', 'b', '1', '2']\n"
     ]
    },
    {
     "data": {
      "text/plain": [
       "5"
      ]
     },
     "execution_count": 13,
     "metadata": {},
     "output_type": "execute_result"
    }
   ],
   "source": [
    "# chars = [\"a\", \"a\", \"b\", \"b\", \"b\"]\n",
    "chars = [\"a\",\"b\",\"b\",\"b\",\"b\",\"b\",\"b\",\"b\",\"b\",\"b\",\"b\",\"b\",\"b\"]\n",
    "# chars = [\"a\"]\n",
    "Solution443().compress(chars)"
   ]
  },
  {
   "cell_type": "markdown",
   "metadata": {},
   "source": [
    "## Solution"
   ]
  },
  {
   "cell_type": "code",
   "execution_count": 16,
   "metadata": {},
   "outputs": [],
   "source": [
    "class Solution443(object):\n",
    "    def compress(self, chars: List[str]) -> int:\n",
    "        i = 0\n",
    "        res = 0\n",
    "        while i < len(chars):\n",
    "            group_length = 1\n",
    "            while (i + group_length < len(chars) and chars[i + group_length] == chars[i]):\n",
    "                group_length += 1\n",
    "            chars[res] = chars[i]\n",
    "            res += 1\n",
    "            if group_length > 1:\n",
    "                str_repr = str(group_length)\n",
    "                chars[res:res+len(str_repr)] = list(str_repr)\n",
    "                res += len(str_repr)\n",
    "            i += group_length\n",
    "        return res"
   ]
  },
  {
   "cell_type": "code",
   "execution_count": 18,
   "metadata": {},
   "outputs": [
    {
     "name": "stdout",
     "output_type": "stream",
     "text": [
      "4\n"
     ]
    }
   ],
   "source": [
    "chars = [\"a\", \"a\", \"b\", \"b\", \"b\"]\n",
    "print(Solution443().compress(chars))\n"
   ]
  },
  {
   "cell_type": "markdown",
   "metadata": {},
   "source": [
    "## 感想"
   ]
  },
  {
   "cell_type": "markdown",
   "metadata": {},
   "source": [
    "正直意味がわからなかった。\n",
    "問題文の、`After you are done modifying the input array, return the new length of the array`と書いてあるが、input arrayの修正方法がわからなかった。ただ単に、引数の`chars`を直接変更するだけだった。"
   ]
  }
 ],
 "metadata": {
  "kernelspec": {
   "display_name": "Python 3 (ipykernel)",
   "language": "python",
   "name": "python3"
  },
  "language_info": {
   "codemirror_mode": {
    "name": "ipython",
    "version": 3
   },
   "file_extension": ".py",
   "mimetype": "text/x-python",
   "name": "python",
   "nbconvert_exporter": "python",
   "pygments_lexer": "ipython3",
   "version": "3.12.3"
  }
 },
 "nbformat": 4,
 "nbformat_minor": 4
}
