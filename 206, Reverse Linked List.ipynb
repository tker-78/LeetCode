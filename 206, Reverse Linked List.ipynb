{
 "cells": [
  {
   "cell_type": "markdown",
   "metadata": {},
   "source": [
    "# 206. Reverse Linked List\n",
    "[問題](https://leetcode.com/problems/reverse-linked-list/?envType=study-plan-v2&envId=leetcode-75)  \n",
    "\n",
    "Given the head of a singly linked list, reverse the list, and return the reversed list.\n",
    "\n",
    "## 回答の方針\n",
    "単純にreverseを実装する。\n",
    "\n",
    "\n",
    "## 実装"
   ]
  },
  {
   "cell_type": "code",
   "execution_count": 22,
   "metadata": {},
   "outputs": [],
   "source": [
    "from typing import Optional\n",
    "class ListNode(object):\n",
    "    def __init__(self, val=0, next=None):\n",
    "        self.val = val\n",
    "        self.next = next\n",
    "\n",
    "class Solution(object):\n",
    "    def reverseList(self, head: Optional[ListNode]) -> Optional[ListNode]:\n",
    "        if head is None:\n",
    "            return None\n",
    "        \n",
    "        previous_node = None\n",
    "        current_node = head\n",
    "\n",
    "        while current_node:\n",
    "            next_node = current_node.next\n",
    "            current_node.next = previous_node\n",
    "            previous_node = current_node\n",
    "            current_node = next_node\n",
    "\n",
    "        return previous_node\n",
    "\n",
    "\n"
   ]
  },
  {
   "cell_type": "code",
   "execution_count": 23,
   "metadata": {},
   "outputs": [],
   "source": [
    "# head = [2,3,4,7,1,2,6]\n",
    "head = ListNode(1)\n",
    "head_tail = head\n",
    "head_tail.next = ListNode(3)\n",
    "head_tail = head_tail.next\n",
    "head_tail.next = ListNode(4)\n",
    "head_tail = head_tail.next\n",
    "head_tail.next = ListNode(7)\n",
    "head_tail = head_tail.next\n",
    "head_tail.next = ListNode(1)\n",
    "head_tail = head_tail.next\n",
    "head_tail.next = ListNode(2)\n",
    "head_tail = head_tail.next\n",
    "head_tail.next = ListNode(6)\n",
    "head_tail = head_tail.next"
   ]
  },
  {
   "cell_type": "code",
   "execution_count": 24,
   "metadata": {},
   "outputs": [],
   "source": [
    "answer = Solution().reverseList(head)"
   ]
  },
  {
   "cell_type": "code",
   "execution_count": 26,
   "metadata": {},
   "outputs": [
    {
     "name": "stdout",
     "output_type": "stream",
     "text": [
      "6\n",
      "2\n",
      "1\n",
      "7\n",
      "4\n",
      "3\n",
      "1\n"
     ]
    }
   ],
   "source": [
    "print(answer.val)\n",
    "print(answer.next.val)\n",
    "print(answer.next.next.val)\n",
    "print(answer.next.next.next.val)\n",
    "print(answer.next.next.next.next.val)\n",
    "print(answer.next.next.next.next.next.val)\n",
    "print(answer.next.next.next.next.next.next.val)"
   ]
  },
  {
   "cell_type": "markdown",
   "metadata": {},
   "source": [
    "## 考察\n",
    "上記コードでOK.  \n"
   ]
  },
  {
   "cell_type": "markdown",
   "metadata": {},
   "source": []
  }
 ],
 "metadata": {
  "kernelspec": {
   "display_name": ".venv",
   "language": "python",
   "name": "python3"
  },
  "language_info": {
   "codemirror_mode": {
    "name": "ipython",
    "version": 3
   },
   "file_extension": ".py",
   "mimetype": "text/x-python",
   "name": "python",
   "nbconvert_exporter": "python",
   "pygments_lexer": "ipython3",
   "version": "3.12.3"
  }
 },
 "nbformat": 4,
 "nbformat_minor": 2
}
