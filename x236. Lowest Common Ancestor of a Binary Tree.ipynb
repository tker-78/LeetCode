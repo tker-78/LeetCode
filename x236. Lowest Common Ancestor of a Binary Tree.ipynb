{
 "cells": [
  {
   "cell_type": "markdown",
   "metadata": {},
   "source": [
    "# 236. Lowest Common Ancestor of a Binary Tree\n",
    "[問題](https://leetcode.com/problems/lowest-common-ancestor-of-a-binary-tree/?envType=study-plan-v2&envId=leetcode-75)  \n",
    "\n",
    "Given a binary tree, find the lowest common ancestor (LCA) of two given nodes in the tree.\n",
    "\n",
    "According to the definition of LCA on Wikipedia: “The lowest common ancestor is defined between two nodes p and q as the lowest node in T that has both p and q as descendants (where we allow a node to be a descendant of itself).”\n",
    "\n",
    "## 回答の方針\n",
    "p, qを含む最も下のnodeを返す。  \n",
    "current_nodeを保存しておき、該当するnodeが見つかったらcurrent_nodeを返す\n",
    "\n",
    "## 実装"
   ]
  },
  {
   "cell_type": "code",
   "execution_count": 24,
   "metadata": {},
   "outputs": [],
   "source": [
    "from typing import Optional\n",
    "class TreeNode(object):\n",
    "    def __init__(self, val=0, left=None, right=None):\n",
    "        self.val = val\n",
    "        self.left = left\n",
    "        self.right = right\n",
    "\n",
    "def dfs(node: Optional[TreeNode]) -> None:\n",
    "    if node is None:\n",
    "        print(\"None\")\n",
    "        return\n",
    "    \n",
    "    print(node.val)\n",
    "\n",
    "    return dfs(node.left) or dfs(node.right)\n",
    "\n",
    "class Solution(object):\n",
    "    def __init__(self):\n",
    "        self.ans = None\n",
    "\n",
    "    def lowestCommonAncestor(self, root: Optional[TreeNode], p: Optional[TreeNode], q: Optional[TreeNode]) -> Optional[TreeNode]:\n",
    "        def preorder(node: TreeNode) -> bool:\n",
    "            if node is None:\n",
    "                return False\n",
    "\n",
    "            left = preorder(node.left)\n",
    "            right = preorder(node.right)\n",
    "\n",
    "            mid = node == p or node == q\n",
    "\n",
    "            if mid + left + right >= 2:\n",
    "                self.ans = node\n",
    "            \n",
    "            print(self.ans)\n",
    "\n",
    "            return mid or left or right\n",
    "        \n",
    "        preorder(root)\n",
    "        return self.ans\n",
    "            \n",
    "\n"
   ]
  },
  {
   "cell_type": "code",
   "execution_count": 25,
   "metadata": {},
   "outputs": [],
   "source": [
    "# root = TreeNode(3, \n",
    "#                 TreeNode(5,\n",
    "#                          TreeNode(6), TreeNode(2, TreeNode(7), TreeNode(4))),\n",
    "#                 TreeNode(1, TreeNode(0), TreeNode(8)))\n",
    "# p = TreeNode(5)\n",
    "# q = TreeNode(1)"
   ]
  },
  {
   "cell_type": "code",
   "execution_count": 26,
   "metadata": {},
   "outputs": [],
   "source": [
    "root = TreeNode(1, TreeNode(2))\n",
    "p = TreeNode(1)\n",
    "q = TreeNode(2)\n"
   ]
  },
  {
   "cell_type": "code",
   "execution_count": 27,
   "metadata": {},
   "outputs": [
    {
     "name": "stdout",
     "output_type": "stream",
     "text": [
      "None\n",
      "None\n"
     ]
    },
    {
     "ename": "AttributeError",
     "evalue": "'NoneType' object has no attribute 'val'",
     "output_type": "error",
     "traceback": [
      "\u001b[1;31m---------------------------------------------------------------------------\u001b[0m",
      "\u001b[1;31mAttributeError\u001b[0m                            Traceback (most recent call last)",
      "Cell \u001b[1;32mIn[27], line 3\u001b[0m\n\u001b[0;32m      1\u001b[0m sol \u001b[38;5;241m=\u001b[39m Solution()\n\u001b[0;32m      2\u001b[0m node \u001b[38;5;241m=\u001b[39m sol\u001b[38;5;241m.\u001b[39mlowestCommonAncestor(root, p, q)\n\u001b[1;32m----> 3\u001b[0m \u001b[38;5;28mprint\u001b[39m(\u001b[43mnode\u001b[49m\u001b[38;5;241;43m.\u001b[39;49m\u001b[43mval\u001b[49m)\n",
      "\u001b[1;31mAttributeError\u001b[0m: 'NoneType' object has no attribute 'val'"
     ]
    }
   ],
   "source": [
    "sol = Solution()\n",
    "node = sol.lowestCommonAncestor(root, p, q)\n",
    "print(node.val)"
   ]
  },
  {
   "cell_type": "markdown",
   "metadata": {},
   "source": [
    "## 考察\n",
    "うまくいかなかった。\n",
    "回答を見て実装しなおしたが、返り値がNoneになってしまい、正解できない。\n",
    "(leetcode上では正解になった)"
   ]
  }
 ],
 "metadata": {
  "kernelspec": {
   "display_name": ".venv",
   "language": "python",
   "name": "python3"
  },
  "language_info": {
   "codemirror_mode": {
    "name": "ipython",
    "version": 3
   },
   "file_extension": ".py",
   "mimetype": "text/x-python",
   "name": "python",
   "nbconvert_exporter": "python",
   "pygments_lexer": "ipython3",
   "version": "3.12.3"
  }
 },
 "nbformat": 4,
 "nbformat_minor": 2
}
