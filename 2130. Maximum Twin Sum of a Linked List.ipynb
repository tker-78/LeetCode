{
 "cells": [
  {
   "cell_type": "markdown",
   "metadata": {},
   "source": [
    "# 2130. Maximum Twin Sum of a Linked List\n",
    "[問題](https://leetcode.com/problems/maximum-twin-sum-of-a-linked-list/?envType=study-plan-v2&envId=leetcode-75)  \n",
    "\n",
    "In a linked list of size n, where n is even, the ith node (0-indexed) of the linked list is known as the twin of the (n-1-i)th node, if 0 <= i <= (n / 2) - 1.\n",
    "\n",
    "For example, if n = 4, then node 0 is the twin of node 3, and node 1 is the twin of node 2. These are the only nodes with twins for n = 4.\n",
    "The twin sum is defined as the sum of a node and its twin.\n",
    "\n",
    "Given the head of a linked list with even length, return the maximum twin sum of the linked list.\n",
    "\n",
    "## 回答の方針\n",
    "List内のTwinとなる要素の合計値の最大値を返す。\n",
    "\n",
    "これをLinkedListで実現するためには、\n",
    "- リバースしたリストを使う\n",
    "- 中央部から順番にインデックスを広げる形で走査する。\n",
    "- 一旦リストを作成して、その中で計算する。\n",
    "- スタックを使う\n",
    "\n",
    "スタックを使って実装する。\n",
    "\n",
    "## 実装"
   ]
  },
  {
   "cell_type": "code",
   "execution_count": 8,
   "metadata": {},
   "outputs": [],
   "source": [
    "class ListNode(object):\n",
    "    def __init__(self, val=0, next=None):\n",
    "        self.val = val\n",
    "        self.next = next\n",
    "\n",
    "\n",
    "from typing import Optional\n",
    "class Solution(object):\n",
    "    def pairSum(self, head: Optional[ListNode]) -> Optional[ListNode]:\n",
    "        current = head\n",
    "        st = []\n",
    "\n",
    "        answer = 0\n",
    "\n",
    "        while current:\n",
    "            st.append(current.val)\n",
    "            current = current.next\n",
    "\n",
    "        \n",
    "        current = head\n",
    "        size = len(st)\n",
    "\n",
    "        count = 1\n",
    "\n",
    "        while count <= size/2:\n",
    "            answer = max(answer, current.val + st.pop())\n",
    "            current = current.next\n",
    "            count += 1\n",
    "        \n",
    "        return answer\n",
    "\n",
    "\n",
    "        "
   ]
  },
  {
   "cell_type": "code",
   "execution_count": 9,
   "metadata": {},
   "outputs": [],
   "source": [
    "# head = [2,3,4,7,1,2]\n",
    "head = ListNode(1)\n",
    "head_tail = head\n",
    "head_tail.next = ListNode(3)\n",
    "head_tail = head_tail.next\n",
    "head_tail.next = ListNode(4)\n",
    "head_tail = head_tail.next\n",
    "head_tail.next = ListNode(7)\n",
    "head_tail = head_tail.next\n",
    "head_tail.next = ListNode(1)\n",
    "head_tail = head_tail.next\n",
    "head_tail.next = ListNode(2)\n",
    "head_tail = head_tail.next"
   ]
  },
  {
   "cell_type": "code",
   "execution_count": 10,
   "metadata": {},
   "outputs": [
    {
     "name": "stdout",
     "output_type": "stream",
     "text": [
      "11\n"
     ]
    }
   ],
   "source": [
    "print(Solution().pairSum(head))"
   ]
  },
  {
   "cell_type": "markdown",
   "metadata": {},
   "source": [
    "## 考察\n",
    "上記コードでOK."
   ]
  }
 ],
 "metadata": {
  "kernelspec": {
   "display_name": ".venv",
   "language": "python",
   "name": "python3"
  },
  "language_info": {
   "codemirror_mode": {
    "name": "ipython",
    "version": 3
   },
   "file_extension": ".py",
   "mimetype": "text/x-python",
   "name": "python",
   "nbconvert_exporter": "python",
   "pygments_lexer": "ipython3",
   "version": "3.12.3"
  }
 },
 "nbformat": 4,
 "nbformat_minor": 2
}
