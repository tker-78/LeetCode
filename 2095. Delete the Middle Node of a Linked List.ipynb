{
 "cells": [
  {
   "cell_type": "markdown",
   "metadata": {},
   "source": [
    "# 2095. Delete the Middle Node of a Linked List\n",
    "[問題]()\n",
    "\n",
    "You are given the head of a linked list. Delete the middle node, and return the head of the modified linked list.\n",
    "\n",
    "The middle node of a linked list of size n is the ⌊n / 2⌋th node from the start using 0-based indexing, where ⌊x⌋ denotes the largest integer less than or equal to x.\n",
    "\n",
    "For n = 1, 2, 3, 4, and 5, the middle nodes are 0, 1, 1, 2, and 2, respectively.\n",
    "\n",
    "\n",
    "Example 1:\n",
    "\n",
    "\n",
    "Input: head = [1,3,4,7,1,2,6]\n",
    "Output: [1,3,4,1,2,6]\n",
    "Explanation:\n",
    "The above figure represents the given linked list. The indices of the nodes are written below.\n",
    "Since n = 7, node 3 with value 7 is the middle node, which is marked in red.\n",
    "We return the new list after removing this node.\n",
    "\n",
    "Example 2:\n",
    "\n",
    "\n",
    "Input: head = [1,2,3,4]\n",
    "Output: [1,2,4]\n",
    "Explanation:\n",
    "The above figure represents the given linked list.\n",
    "For n = 4, node 2 with value 3 is the middle node, which is marked in red.\n",
    "Example 3:\n",
    "\n",
    "\n",
    "Input: head = [2,1]\n",
    "Output: [2]\n",
    "Explanation:\n",
    "The above figure represents the given linked list.\n",
    "For n = 2, node 1 with value 1 is the middle node, which is marked in red.\n",
    "Node 0 with value 2 is the only node remaining after removing node 1.\n",
    "\n",
    "## 回答の方針\n",
    "ListNodeの扱いには少しくせがある。 Nodeは下記の形式で与えられる。\n",
    "```\n",
    "ListNode{val: 1, next: ListNode{val: 3, next: ListNode{val: 4, next: ListNode{val: 7, next: ListNode{val: 1, next: ListNode{val: 2, next: ListNode{val: 6, next: None}}}}}}}\n",
    "```\n",
    "head.next.next...でnodeに順番にアクセスできるので、\n",
    "繰り返し呼び出しして、Noneが返ったら終了する再帰関数を使う。\n",
    "\n",
    "\n",
    "\n",
    "## 実装"
   ]
  },
  {
   "cell_type": "code",
   "execution_count": 54,
   "metadata": {},
   "outputs": [],
   "source": [
    "from typing import Optional\n",
    "\n",
    "class ListNode:\n",
    "    def __init__(self, val=0, next=None):\n",
    "        self.val = val\n",
    "        self.next = next\n",
    "\n",
    "\n",
    "class Solution(object):\n",
    "    def deleteMiddle(self, head: Optional[ListNode]) -> Optional[ListNode]:\n",
    "        if head.next is None:\n",
    "            return None\n",
    "\n",
    "        count = 0\n",
    "        p1 = p2 = head\n",
    "\n",
    "        while p1:\n",
    "            count += 1\n",
    "            p1 = p1.next\n",
    "        \n",
    "        middle_index = count // 2\n",
    "\n",
    "        for _ in range(middle_index-1):\n",
    "            p2 = p2.next\n",
    "\n",
    "        p2.next = p2.next.next\n",
    "\n",
    "        return head\n",
    "\n",
    "        \n"
   ]
  },
  {
   "cell_type": "code",
   "execution_count": 55,
   "metadata": {},
   "outputs": [],
   "source": [
    "# head = [1,3,4,7,1,2,6]\n",
    "head = ListNode(1)\n",
    "head_tail = head\n",
    "head_tail.next = ListNode(3)\n",
    "head_tail = head_tail.next\n",
    "head_tail.next = ListNode(4)\n",
    "head_tail = head_tail.next\n",
    "head_tail.next = ListNode(7)\n",
    "head_tail = head_tail.next\n",
    "head_tail.next = ListNode(1)\n",
    "head_tail = head_tail.next\n",
    "head_tail.next = ListNode(2)\n",
    "head_tail = head_tail.next\n",
    "head_tail.next = ListNode(6)\n",
    "head_tail = head_tail.next"
   ]
  },
  {
   "cell_type": "code",
   "execution_count": 56,
   "metadata": {},
   "outputs": [
    {
     "name": "stdout",
     "output_type": "stream",
     "text": [
      "1\n",
      "3\n",
      "4\n",
      "7\n",
      "1\n",
      "2\n",
      "6\n"
     ]
    }
   ],
   "source": [
    "print(head.val)\n",
    "print(head.next.val)\n",
    "print(head.next.next.val)\n",
    "print(head.next.next.next.val)\n",
    "print(head.next.next.next.next.val)\n",
    "print(head.next.next.next.next.next.val)\n",
    "print(head.next.next.next.next.next.next.val)"
   ]
  },
  {
   "cell_type": "code",
   "execution_count": 57,
   "metadata": {},
   "outputs": [],
   "source": [
    "answer = Solution().deleteMiddle(head)"
   ]
  },
  {
   "cell_type": "code",
   "execution_count": 58,
   "metadata": {},
   "outputs": [
    {
     "name": "stdout",
     "output_type": "stream",
     "text": [
      "<__main__.ListNode object at 0x0000024621C14740>\n"
     ]
    }
   ],
   "source": [
    "print(answer)"
   ]
  },
  {
   "cell_type": "code",
   "execution_count": 60,
   "metadata": {},
   "outputs": [
    {
     "name": "stdout",
     "output_type": "stream",
     "text": [
      "1\n",
      "3\n",
      "4\n",
      "1\n",
      "2\n",
      "6\n"
     ]
    }
   ],
   "source": [
    "print(answer.val)\n",
    "print(answer.next.val)\n",
    "print(answer.next.next.val)\n",
    "print(answer.next.next.next.val)\n",
    "print(answer.next.next.next.next.val)\n",
    "print(answer.next.next.next.next.next.val)"
   ]
  },
  {
   "cell_type": "markdown",
   "metadata": {},
   "source": [
    "## 考察\n",
    "ListNodeの入力の仕方がわからなかったため、notebookで検証ができなかった。"
   ]
  },
  {
   "cell_type": "code",
   "execution_count": null,
   "metadata": {},
   "outputs": [],
   "source": []
  }
 ],
 "metadata": {
  "kernelspec": {
   "display_name": ".venv",
   "language": "python",
   "name": "python3"
  },
  "language_info": {
   "codemirror_mode": {
    "name": "ipython",
    "version": 3
   },
   "file_extension": ".py",
   "mimetype": "text/x-python",
   "name": "python",
   "nbconvert_exporter": "python",
   "pygments_lexer": "ipython3",
   "version": "3.12.3"
  }
 },
 "nbformat": 4,
 "nbformat_minor": 2
}
