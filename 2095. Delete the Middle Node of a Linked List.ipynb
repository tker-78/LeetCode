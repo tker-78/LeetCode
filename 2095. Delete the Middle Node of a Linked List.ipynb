{
 "cells": [
  {
   "cell_type": "markdown",
   "metadata": {},
   "source": [
    "# 2095. Delete the Middle Node of a Linked List\n",
    "[問題](https://leetcode.com/problems/delete-the-middle-node-of-a-linked-list/?envType=study-plan-v2&envId=leetcode-75)  \n",
    "\n",
    "\n",
    "You are given the head of a linked list. Delete the middle node, and return the head of the modified linked list.\n",
    "\n",
    "The middle node of a linked list of size n is the ⌊n / 2⌋th node from the start using 0-based indexing, where ⌊x⌋ denotes the largest integer less than or equal to x.\n",
    "\n",
    "For n = 1, 2, 3, 4, and 5, the middle nodes are 0, 1, 1, 2, and 2, respectively.\n",
    " \n",
    "\n",
    "```\n",
    "Example 1:\n",
    "\n",
    "Input: head = [1,3,4,7,1,2,6]\n",
    "Output: [1,3,4,1,2,6]\n",
    "Explanation:\n",
    "The above figure represents the given linked list. The indices of the nodes are written below.\n",
    "Since n = 7, node 3 with value 7 is the middle node, which is marked in red.\n",
    "We return the new list after removing this node. \n",
    "Example 2:\n",
    "\n",
    "\n",
    "Input: head = [1,2,3,4]\n",
    "Output: [1,2,4]\n",
    "Explanation:\n",
    "The above figure represents the given linked list.\n",
    "For n = 4, node 2 with value 3 is the middle node, which is marked in red.\n",
    "Example 3:\n",
    "\n",
    "\n",
    "Input: head = [2,1]\n",
    "Output: [2]\n",
    "Explanation:\n",
    "The above figure represents the given linked list.\n",
    "For n = 2, node 1 with value 1 is the middle node, which is marked in red.\n",
    "Node 0 with value 2 is the only node remaining after removing node 1.\n",
    "\n",
    "```\n",
    "\n",
    "## 回答の方針\n",
    "\n",
    "\n",
    "## 実装\n"
   ]
  },
  {
   "cell_type": "code",
   "execution_count": 11,
   "metadata": {},
   "outputs": [],
   "source": [
    "from typing import List, Optional\n",
    "class ListNode(object):\n",
    "    def __init__(self, val=0, next=None):\n",
    "        self.val = val\n",
    "        self.next = next\n",
    "\n",
    "class Solution(object):\n",
    "    def deleteMiddle(self, head: Optional[ListNode]) -> Optional[ListNode]:\n",
    "        if head.next is None:\n",
    "            return None\n",
    "\n",
    "        count = 0\n",
    "        p1, p2 = head, head\n",
    "        while p1:\n",
    "            count += 1\n",
    "            p1 = p1.next\n",
    "        \n",
    "        mid = count // 2\n",
    "\n",
    "        for _ in range(mid-1):\n",
    "            p2 = p2.next\n",
    "        p2.next = p2.next.next\n",
    "        \n",
    "        return head\n"
   ]
  },
  {
   "cell_type": "code",
   "execution_count": 12,
   "metadata": {},
   "outputs": [],
   "source": [
    "# head = [1,3,4,7,1,2,6]\n",
    "head = ListNode(1, ListNode(3, ListNode(4, ListNode(7, ListNode(1, ListNode(2, ListNode(6)))))))"
   ]
  },
  {
   "cell_type": "code",
   "execution_count": 13,
   "metadata": {},
   "outputs": [],
   "source": [
    "ans = Solution().deleteMiddle(head)"
   ]
  },
  {
   "cell_type": "code",
   "execution_count": 14,
   "metadata": {},
   "outputs": [
    {
     "name": "stdout",
     "output_type": "stream",
     "text": [
      "1\n",
      "3\n",
      "4\n",
      "1\n",
      "2\n",
      "6\n"
     ]
    }
   ],
   "source": [
    "while ans:\n",
    "    print(ans.val)\n",
    "    ans = ans.next"
   ]
  },
  {
   "cell_type": "markdown",
   "metadata": {},
   "source": [
    "## 考察\n",
    "削除する要素が最後の要素の場合(要素が一つの場合)、next.nextは存在しない。\n",
    "そのため、\n",
    "```python\n",
    "if head.next is None:\n",
    "    return None\n",
    "```\n",
    "とする。"
   ]
  }
 ],
 "metadata": {
  "kernelspec": {
   "display_name": ".venv",
   "language": "python",
   "name": "python3"
  },
  "language_info": {
   "codemirror_mode": {
    "name": "ipython",
    "version": 3
   },
   "file_extension": ".py",
   "mimetype": "text/x-python",
   "name": "python",
   "nbconvert_exporter": "python",
   "pygments_lexer": "ipython3",
   "version": "3.12.3"
  }
 },
 "nbformat": 4,
 "nbformat_minor": 2
}
