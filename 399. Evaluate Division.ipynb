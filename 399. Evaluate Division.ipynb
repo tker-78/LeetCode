{
 "cells": [
  {
   "cell_type": "markdown",
   "metadata": {},
   "source": [
    "# 399. Evaluate Division\n",
    "[問題](https://leetcode.com/problems/evaluate-division/?envType=study-plan-v2&envId=leetcode-75)  \n",
    "\n",
    "## 回答の方針\n",
    "各stringが表す数値を計算できたらいいが、\n",
    "\n",
    "equationsから最初の要素を取り出してスタックに入れる\n",
    "各変数の値を計算してdefaultdict()に入れる。\n",
    "default値は-1.0に設定する。\n",
    "\n",
    "\n"
   ]
  },
  {
   "cell_type": "code",
   "execution_count": 17,
   "metadata": {},
   "outputs": [],
   "source": [
    "from typing import List\n",
    "from collections import defaultdict\n",
    "\n",
    "class Solution(object):\n",
    "    def calcEquation(self, equations: List[List[str]], values: List[float], queries: List[List[str]]) -> List[float]:\n",
    "        graph = defaultdict(defaultdict)\n",
    "\n",
    "        def backtrack_evaluate(curr_node, target_node, acc_product, visited):\n",
    "            visited.add(curr_node)\n",
    "            ret = -1.0\n",
    "            neighbors = graph[curr_node]\n",
    "            if target_node in neighbors:\n",
    "                ret = acc_product * neighbors[target_node]\n",
    "            else:\n",
    "                for neighbor, value in neighbors.items():\n",
    "                    if neighbor in visited:\n",
    "                        continue\n",
    "                    ret = backtrack_evaluate(\n",
    "                        neighbor, target_node, acc_product * value, visited\n",
    "                    )\n",
    "                    if ret != -1.0:\n",
    "                        break\n",
    "            visited.remove(curr_node)\n",
    "            return ret\n",
    "\n",
    "        for (dividend, divisor), value in zip(equations, values):\n",
    "            graph[dividend][divisor] = value\n",
    "            graph[divisor][dividend] = 1/value\n",
    "\n",
    "        results = []\n",
    "        for dividend, divisor in queries:\n",
    "            if dividend not in graph or divisor not in graph:\n",
    "                ret = -1.0\n",
    "            elif dividend == divisor:\n",
    "                ret = 1.0\n",
    "            else:\n",
    "                visited = set()\n",
    "                ret = backtrack_evaluate(dividend, divisor, 1, visited)\n",
    "            results.append(ret)\n",
    "\n",
    "        return results\n",
    "\n",
    "\n",
    "\n",
    "\n"
   ]
  },
  {
   "cell_type": "code",
   "execution_count": 18,
   "metadata": {},
   "outputs": [],
   "source": [
    "equations = [[\"a\",\"b\"],[\"b\",\"c\"]]\n",
    "values = [2.0,3.0]\n",
    "queries = [[\"a\",\"c\"],[\"b\",\"a\"],[\"a\",\"e\"],[\"a\",\"a\"],[\"x\",\"x\"]]"
   ]
  },
  {
   "cell_type": "code",
   "execution_count": 19,
   "metadata": {},
   "outputs": [
    {
     "name": "stdout",
     "output_type": "stream",
     "text": [
      "[6.0, 0.5, -1.0, 1.0, -1.0]\n"
     ]
    }
   ],
   "source": [
    "\n",
    "print(Solution().calcEquation(equations, values, queries))"
   ]
  },
  {
   "cell_type": "code",
   "execution_count": null,
   "metadata": {},
   "outputs": [],
   "source": []
  }
 ],
 "metadata": {
  "kernelspec": {
   "display_name": ".venv",
   "language": "python",
   "name": "python3"
  },
  "language_info": {
   "codemirror_mode": {
    "name": "ipython",
    "version": 3
   },
   "file_extension": ".py",
   "mimetype": "text/x-python",
   "name": "python",
   "nbconvert_exporter": "python",
   "pygments_lexer": "ipython3",
   "version": "3.12.3"
  }
 },
 "nbformat": 4,
 "nbformat_minor": 2
}
