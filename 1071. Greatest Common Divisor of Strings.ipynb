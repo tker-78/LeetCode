{
 "cells": [
  {
   "cell_type": "markdown",
   "metadata": {},
   "source": [
    "# 1071. Greatest Common Divisor of Strings\n",
    "[問題](https://leetcode.com/problems/greatest-common-divisor-of-strings/description/?envType=study-plan-v2&envId=leetcode-75)"
   ]
  },
  {
   "cell_type": "markdown",
   "metadata": {},
   "source": [
    "## 解答の方針\n",
    "文字の最大公約部分を求める問題。  \n",
    "短いほうの文字列を基準にする。  \n",
    "お互いの文字数を整数で割って、その商の部分を比較して等しければその文字を返す。"
   ]
  },
  {
   "cell_type": "code",
   "execution_count": 2,
   "metadata": {},
   "outputs": [],
   "source": [
    "def gcdOfStrings(str1: str, str2: str) -> str:\n",
    "    # 短いほうの文字列をbaseに格納する。\n",
    "    shorter, longer = (str1, str2) if len(str1) <= len(str2) else (str2, str1)\n",
    "    def valid(k):\n",
    "        if len(shorter) % k or len(longer) % k:\n",
    "            return False\n",
    "        n_shorter, n_longer = len(shorter) // k, len(longer) // k\n",
    "        base = shorter[:k]\n",
    "        return shorter == n_shorter * base and longer == n_longer * base\n",
    "    \n",
    "    for i in range(len(shorter), 0, -1):\n",
    "        if valid(i):\n",
    "            return shorter[:i]\n",
    "    return ''\n",
    "        \n",
    "\n"
   ]
  },
  {
   "cell_type": "code",
   "execution_count": 3,
   "metadata": {},
   "outputs": [
    {
     "data": {
      "text/plain": [
       "'ABC'"
      ]
     },
     "execution_count": 3,
     "metadata": {},
     "output_type": "execute_result"
    }
   ],
   "source": [
    "gcdOfStrings(\"ABCABC\", \"ABC\")"
   ]
  },
  {
   "cell_type": "code",
   "execution_count": 4,
   "metadata": {},
   "outputs": [],
   "source": [
    "import ipytest\n",
    "ipytest.autoconfig()"
   ]
  },
  {
   "cell_type": "code",
   "execution_count": 7,
   "metadata": {},
   "outputs": [
    {
     "name": "stdout",
     "output_type": "stream",
     "text": [
      "\u001b[32m.\u001b[0m\u001b[32m.\u001b[0m\u001b[32m                                                                                           [100%]\u001b[0m\n"
     ]
    }
   ],
   "source": [
    "%%ipytest -qq\n",
    "def test_gdcOfStrings1():\n",
    "    assert gcdOfStrings(\"ABCABC\", \"ABC\") == \"ABC\"\n",
    "def test_gdcOfStrings2():\n",
    "    assert gcdOfStrings(\"ABABAB\", \"AB\") == \"AB\""
   ]
  },
  {
   "cell_type": "code",
   "execution_count": null,
   "metadata": {},
   "outputs": [],
   "source": []
  }
 ],
 "metadata": {
  "kernelspec": {
   "display_name": ".venv",
   "language": "python",
   "name": "python3"
  },
  "language_info": {
   "codemirror_mode": {
    "name": "ipython",
    "version": 3
   },
   "file_extension": ".py",
   "mimetype": "text/x-python",
   "name": "python",
   "nbconvert_exporter": "python",
   "pygments_lexer": "ipython3",
   "version": "3.12.3"
  }
 },
 "nbformat": 4,
 "nbformat_minor": 2
}
