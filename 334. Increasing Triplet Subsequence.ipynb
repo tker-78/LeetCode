{
 "cells": [
  {
   "cell_type": "markdown",
   "metadata": {},
   "source": [
    "# 334. Increasing Triplet Subsequence\n",
    "[問題](https://leetcode.com/problems/increasing-triplet-subsequence/?envType=study-plan-v2&envId=leetcode-75)  \n",
    "\n",
    "Given an integer array nums, return true if there exists a triple of indices (i, j, k) such that i < j < k and nums[i] < nums[j] < nums[k]. If no such indices exists, return false.\n",
    "\n",
    " \n",
    "```python\n",
    "Example 1:\n",
    "\n",
    "Input: nums = [1,2,3,4,5]\n",
    "Output: true\n",
    "Explanation: Any triplet where i < j < k is valid.\n",
    "Example 2:\n",
    "\n",
    "Input: nums = [5,4,3,2,1]\n",
    "Output: false\n",
    "Explanation: No triplet exists.\n",
    "Example 3:\n",
    "\n",
    "Input: nums = [2,1,5,0,4,6]\n",
    "Output: true\n",
    "Explanation: The triplet (3, 4, 5) is valid because nums[3] == 0 < nums[4] == 4 < nums[5] == 6.\n",
    "```\n",
    " \n",
    "## 回答の方針\n",
    "three pointersを使う。\n",
    "\n",
    "\n",
    "## 実装"
   ]
  },
  {
   "cell_type": "code",
   "execution_count": 22,
   "metadata": {},
   "outputs": [],
   "source": [
    "from typing import List\n",
    "class Solution(object):\n",
    "    def increasingTriplet(self, nums: List[int]) -> bool:\n",
    "        length = len(nums)\n",
    "        if length < 3:\n",
    "            return False\n",
    "        first, second = float(\"inf\"), float(\"inf\")\n",
    "\n",
    "        for n in nums:\n",
    "            if n < first:\n",
    "                first <= n\n",
    "            elif n < second:\n",
    "                second <= n\n",
    "            else:\n",
    "                return True\n",
    "\n",
    "        return False\n",
    "\n"
   ]
  },
  {
   "cell_type": "code",
   "execution_count": 23,
   "metadata": {},
   "outputs": [],
   "source": [
    "# nums = [1,2,3,4,5]\n",
    "nums = [5,4,3,2,1]"
   ]
  },
  {
   "cell_type": "code",
   "execution_count": 24,
   "metadata": {},
   "outputs": [
    {
     "name": "stdout",
     "output_type": "stream",
     "text": [
      "False\n"
     ]
    }
   ],
   "source": [
    "print(Solution().increasingTriplet(nums))"
   ]
  },
  {
   "cell_type": "markdown",
   "metadata": {},
   "source": [
    "## 考察\n",
    "数字の傾きが一直線になっていることを確認するためには、\n",
    "無限で初期化された`float(\"inf\")を使用する。"
   ]
  }
 ],
 "metadata": {
  "kernelspec": {
   "display_name": ".venv",
   "language": "python",
   "name": "python3"
  },
  "language_info": {
   "codemirror_mode": {
    "name": "ipython",
    "version": 3
   },
   "file_extension": ".py",
   "mimetype": "text/x-python",
   "name": "python",
   "nbconvert_exporter": "python",
   "pygments_lexer": "ipython3",
   "version": "3.12.3"
  }
 },
 "nbformat": 4,
 "nbformat_minor": 2
}
