{
 "cells": [
  {
   "cell_type": "markdown",
   "metadata": {},
   "source": [
    "# 735. Asteroid Collision\n",
    "[問題](https://leetcode.com/problems/asteroid-collision/?envType=study-plan-v2&envId=leetcode-75)  \n",
    "We are given an array asteroids of integers representing asteroids in a row.\n",
    "\n",
    "For each asteroid, the absolute value represents its size, and the sign represents its direction (positive meaning right, negative meaning left). Each asteroid moves at the same speed.\n",
    "\n",
    "Find out the state of the asteroids after all collisions. If two asteroids meet, the smaller one will explode. If both are the same size, both will explode. Two asteroids moving in the same direction will never meet.\n",
    "\n",
    "## 回答の方針\n",
    "絶対値が大きいもの同士が先に接触する。\n",
    "plusの配列とminusの配列を作成して、絶対値が大きい順にソートする。\n",
    "それぞれの要素を比較して、消滅する要素を決定する。\n",
    "\n",
    "## 実装"
   ]
  },
  {
   "cell_type": "code",
   "execution_count": 29,
   "metadata": {},
   "outputs": [],
   "source": [
    "from typing import List\n",
    "class Solution(object):\n",
    "    def asteroidCollision(self, asteroids: List[int]) -> List[int]:\n",
    "        plus_list = []\n",
    "        minus_list = []\n",
    "        for item in asteroids:\n",
    "            if item < 0:\n",
    "                minus_list.append(item)\n",
    "            else:\n",
    "                plus_list.append(item)\n",
    "        plus_list = sorted(plus_list, reverse=True)\n",
    "        minus_list = sorted(minus_list, reverse=True)\n",
    "\n",
    "\n",
    "        collision_list = []\n",
    "        max_len= max(len(plus_list), len(minus_list))\n",
    "        min_len = min(len(plus_list), len(minus_list))\n",
    "        diff = max_len - min_len\n",
    "        for i in range(min_len):\n",
    "            if plus_list[i] > minus_list[i]:\n",
    "                collision_list.append(plus_list[i])\n",
    "            elif plus_list[i] < minus_list[i]:\n",
    "                collision_list.append(minus_list[i])\n",
    "\n",
    "        if len(plus_list) > len(minus_list):\n",
    "            collision_list.extend(plus_list[i+1:i+1+diff])\n",
    "        else:\n",
    "            collision_list.extend(minus_list[i+1:i+1+diff])\n",
    "        return collision_list\n",
    "                "
   ]
  },
  {
   "cell_type": "code",
   "execution_count": 30,
   "metadata": {},
   "outputs": [],
   "source": [
    "asteroids = [5,10, -5]"
   ]
  },
  {
   "cell_type": "code",
   "execution_count": 31,
   "metadata": {},
   "outputs": [
    {
     "name": "stdout",
     "output_type": "stream",
     "text": [
      "[10, 5]\n",
      "[-5]\n",
      "[10, 5]\n",
      "[10, 5]\n"
     ]
    }
   ],
   "source": [
    "print(Solution().asteroidCollision(asteroids))"
   ]
  },
  {
   "cell_type": "markdown",
   "metadata": {},
   "source": [
    "## 考察\n",
    "この場合、listの順番が狂うためNG.  \n",
    "stackで実装しなおす。\n",
    "要素を先頭からスタックに格納して、順番に比較していく。\n",
    "スタックの先頭より要素の絶対値が小さければ\n"
   ]
  },
  {
   "cell_type": "code",
   "execution_count": 13,
   "metadata": {},
   "outputs": [],
   "source": [
    "from typing import List\n",
    "class Solution2(object):\n",
    "    def asteroidCollision(self, asteroids: List[int]) -> List[int]:\n",
    "        st = []\n",
    "        for asteroid in asteroids:\n",
    "            flag = True\n",
    "            while st and (st[0] > 0 and asteroid < 0):\n",
    "                if abs(st[0]) < abs(asteroid):\n",
    "                    st.pop(0)\n",
    "                    continue\n",
    "                elif abs(st[0])  == abs(asteroid):\n",
    "                    st.pop(0)\n",
    "                # asteroidがstackよりも小さい場合はここに到達する\n",
    "                flag = False\n",
    "                print(flag, st)\n",
    "                break\n",
    "                \n",
    "            if flag:\n",
    "                st.insert(0, asteroid)\n",
    "\n",
    "        st.reverse()\n",
    "        \n",
    "        return st\n",
    "            \n",
    "                    \n",
    "\n",
    "\n"
   ]
  },
  {
   "cell_type": "code",
   "execution_count": 14,
   "metadata": {},
   "outputs": [],
   "source": [
    "asteroids = [5,10, -5]"
   ]
  },
  {
   "cell_type": "code",
   "execution_count": 15,
   "metadata": {},
   "outputs": [
    {
     "name": "stdout",
     "output_type": "stream",
     "text": [
      "False [10, 5]\n",
      "[5, 10]\n"
     ]
    }
   ],
   "source": [
    "print(Solution2().asteroidCollision(asteroids))"
   ]
  },
  {
   "cell_type": "markdown",
   "metadata": {},
   "source": [
    "## 考察2\n",
    "これでOK.  \n",
    "スタックを実装したかったら、listのappend()ではなく、insert(0, item)を使う。\n",
    "\n"
   ]
  }
 ],
 "metadata": {
  "kernelspec": {
   "display_name": ".venv",
   "language": "python",
   "name": "python3"
  },
  "language_info": {
   "codemirror_mode": {
    "name": "ipython",
    "version": 3
   },
   "file_extension": ".py",
   "mimetype": "text/x-python",
   "name": "python",
   "nbconvert_exporter": "python",
   "pygments_lexer": "ipython3",
   "version": "3.12.3"
  }
 },
 "nbformat": 4,
 "nbformat_minor": 2
}
