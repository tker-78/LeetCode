{
 "cells": [
  {
   "cell_type": "markdown",
   "metadata": {},
   "source": [
    "# 122. Best Time to Buy and Sell Stock II\n",
    "[問題](https://leetcode.com/problems/best-time-to-buy-and-sell-stock-ii/description/)"
   ]
  },
  {
   "cell_type": "markdown",
   "metadata": {},
   "source": [
    "## 解答の方針\n",
    "two pointersを使う。\n",
    "最初に買う。  \n",
    "prices[i-1] < prices[i]となったら売る。  \n",
    "prices[i-1] > prices[i]となったら買う。  \n",
    "\n"
   ]
  },
  {
   "cell_type": "code",
   "execution_count": 1,
   "metadata": {},
   "outputs": [],
   "source": [
    "import ipytest\n",
    "ipytest.autoconfig()"
   ]
  },
  {
   "cell_type": "code",
   "execution_count": 24,
   "metadata": {},
   "outputs": [],
   "source": [
    "from typing import List\n",
    "class Solution():\n",
    "    def maxProfit(self, prices: List[int]) -> int:\n",
    "        i = 0\n",
    "        valley, peak = prices[0], prices[0]\n",
    "        max_profit = 0\n",
    "        while i < len(prices) - 1:\n",
    "            # 最初に谷を探す\n",
    "            while i < len(prices) - 1 and prices[i] > prices[i+1]:\n",
    "                i += 1\n",
    "            valley = prices[i]\n",
    "            \n",
    "            # 次に山を探す\n",
    "            while i < len(prices) - 1 and prices[i] < prices[i+1]:\n",
    "                i += 1\n",
    "            peak = prices[i]\n",
    "            \n",
    "            max_profit += peak - valley\n",
    "        \n",
    "        return max_profit\n",
    "            \n",
    "            \n"
   ]
  },
  {
   "cell_type": "code",
   "execution_count": 27,
   "metadata": {},
   "outputs": [],
   "source": [
    "# prices = [7,1,5,3,6,4]\n",
    "prices = [1,2,3,4,5]\n",
    "output = 4"
   ]
  },
  {
   "cell_type": "code",
   "execution_count": 28,
   "metadata": {},
   "outputs": [
    {
     "name": "stdout",
     "output_type": "stream",
     "text": [
      "\u001b[32m.\u001b[0m\u001b[32m                                                                                            [100%]\u001b[0m\n",
      "\u001b[32m\u001b[32m\u001b[1m1 passed\u001b[0m\u001b[32m in 0.15s\u001b[0m\u001b[0m\n"
     ]
    }
   ],
   "source": [
    "%%ipytest\n",
    "def test_maxProfit():\n",
    "    assert Solution().maxProfit(prices) == output"
   ]
  },
  {
   "cell_type": "code",
   "execution_count": 14,
   "metadata": {},
   "outputs": [],
   "source": [
    "num = -float(\"inf\")"
   ]
  },
  {
   "cell_type": "code",
   "execution_count": null,
   "metadata": {},
   "outputs": [],
   "source": []
  }
 ],
 "metadata": {
  "kernelspec": {
   "display_name": ".venv",
   "language": "python",
   "name": "python3"
  },
  "language_info": {
   "codemirror_mode": {
    "name": "ipython",
    "version": 3
   },
   "file_extension": ".py",
   "mimetype": "text/x-python",
   "name": "python",
   "nbconvert_exporter": "python",
   "pygments_lexer": "ipython3",
   "version": "3.12.3"
  }
 },
 "nbformat": 4,
 "nbformat_minor": 2
}
