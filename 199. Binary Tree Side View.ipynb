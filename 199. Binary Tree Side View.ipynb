{
 "cells": [
  {
   "cell_type": "markdown",
   "metadata": {},
   "source": [
    "# 199. Binary Tree Right Side View\n",
    "[問題](https://leetcode.com/problems/binary-tree-right-side-view/?envType=study-plan-v2&envId=leetcode-75)  \n",
    "\n",
    "Given the root of a binary tree, imagine yourself standing on the right side of it, return the values of the nodes you can see ordered from top to bottom.\n",
    "\n",
    "## 回答の方針\n",
    "bsfを使って、各階層の一番最後の要素をListに格納する。\n",
    "\n",
    "\n",
    "\n",
    "\n",
    "## 実装"
   ]
  },
  {
   "cell_type": "code",
   "execution_count": 1,
   "metadata": {},
   "outputs": [],
   "source": [
    "from typing import Optional, List\n",
    "class TreeNode(object):\n",
    "    def __init__(self, val=0, left=None, right=None):\n",
    "        self.val = val\n",
    "        self.left = left\n",
    "        self.right = right\n",
    "\n",
    "class Solution(object):\n",
    "    def rightSideView(self, root: Optional[TreeNode]) -> List[int]:\n",
    "        if root is None:\n",
    "            return []\n",
    "        \n",
    "        rightside = []\n",
    "        def bfs(node: Optional[TreeNode], level: int) -> None:\n",
    "            if node is None:\n",
    "                return\n",
    "            if level == len(rightside):\n",
    "                rightside.append(node.val)\n",
    "            for child in [node.right, node.left]:\n",
    "                bfs(child, level + 1)\n",
    "            \n",
    "        bfs(root, 0)\n",
    "        return rightside\n"
   ]
  },
  {
   "cell_type": "code",
   "execution_count": 2,
   "metadata": {},
   "outputs": [],
   "source": [
    "root = TreeNode(3, \n",
    "                TreeNode(5,\n",
    "                         TreeNode(6), TreeNode(2, TreeNode(7), TreeNode(4))),\n",
    "                TreeNode(1, TreeNode(0), TreeNode(8)))\n",
    "# 3 -> 1 -> 8 -> 4"
   ]
  },
  {
   "cell_type": "code",
   "execution_count": 3,
   "metadata": {},
   "outputs": [
    {
     "data": {
      "text/plain": [
       "[3, 1, 8, 4]"
      ]
     },
     "execution_count": 3,
     "metadata": {},
     "output_type": "execute_result"
    }
   ],
   "source": [
    "Solution().rightSideView(root)"
   ]
  }
 ],
 "metadata": {
  "kernelspec": {
   "display_name": ".venv",
   "language": "python",
   "name": "python3"
  },
  "language_info": {
   "codemirror_mode": {
    "name": "ipython",
    "version": 3
   },
   "file_extension": ".py",
   "mimetype": "text/x-python",
   "name": "python",
   "nbconvert_exporter": "python",
   "pygments_lexer": "ipython3",
   "version": "3.12.3"
  }
 },
 "nbformat": 4,
 "nbformat_minor": 2
}
