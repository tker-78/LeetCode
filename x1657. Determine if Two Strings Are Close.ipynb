{
 "cells": [
  {
   "cell_type": "markdown",
   "metadata": {},
   "source": [
    "# 1657. Determine if Two Strings Are Close\n",
    "[問題]()  \n",
    "Two strings are considered close if you can attain one from the other using the following operations:\n",
    "\n",
    "Operation 1: Swap any two existing characters.\n",
    "For example, abcde -> aecdb\n",
    "Operation 2: Transform every occurrence of one existing character into another existing character, and do the same with the other character.\n",
    "For example, aacabb -> bbcbaa (all a's turn into b's, and all b's turn into a's)\n",
    "You can use the operations on either string as many times as necessary.\n",
    "\n",
    "Given two strings, word1 and word2, return true if word1 and word2 are close, and false otherwise.\n",
    "\n",
    "## 回答の方針\n",
    "Hash map/setの分類の問題なので、まずsetを使って回答する。\n",
    "集合を作って、各要素の数が一致している場合がtrueとなる。\n",
    "\n",
    "\n",
    "\n",
    "## 実装\n"
   ]
  },
  {
   "cell_type": "code",
   "execution_count": 23,
   "metadata": {},
   "outputs": [],
   "source": [
    "from typing import List, Dict\n",
    "class Solution(object):\n",
    "    def closeStrings(self, word1: str, word2: str) -> bool:\n",
    "        if len(word1) != len(word2):\n",
    "            return False\n",
    "        word1_set = list(set(word1))\n",
    "        word2_set = list(set(word2))\n",
    "\n",
    "        word1_count = self.count_map(word1)\n",
    "        word2_count = self.count_map(word2)\n",
    "\n",
    "        if word1_count == word2_count:\n",
    "            return True\n",
    "        \n",
    "        return False\n",
    "\n",
    "\n",
    "\n",
    "        \n",
    "\n",
    "    def count_map(self, word_list: List[str]) -> dict:\n",
    "        count_dict = dict()\n",
    "        for i, v in enumerate(word_list):\n",
    "            if v in count_dict.keys():\n",
    "                count_dict[v] += 1\n",
    "            else:\n",
    "                count_dict[v] = 1\n",
    "        return count_dict\n",
    "\n",
    "\n",
    "\n"
   ]
  },
  {
   "cell_type": "code",
   "execution_count": 25,
   "metadata": {},
   "outputs": [
    {
     "name": "stdout",
     "output_type": "stream",
     "text": [
      "True\n"
     ]
    }
   ],
   "source": [
    "word1 = \"aaabbccc\"\n",
    "word2 = \"bbcccaaa\"\n",
    "print(Solution().closeStrings(word1, word2))"
   ]
  },
  {
   "cell_type": "markdown",
   "metadata": {},
   "source": [
    "## 考察\n",
    "全然違った。\n",
    "連続する同じ文字を1文字と読み替えることができるので、\n",
    "それを実装しないといけない。"
   ]
  },
  {
   "cell_type": "code",
   "execution_count": 26,
   "metadata": {},
   "outputs": [],
   "source": [
    "class Solution2(object):\n",
    "    def closeStrings(self, word1: str, word2: str) -> bool:\n",
    "        if len(word1) != len(word2):\n",
    "            return False\n",
    "\n",
    "        word1_set = list(set(word1))\n",
    "        word2_set = list(set(word2))\n",
    "\n",
    "        if word1_set == word2_set:\n",
    "            return True\n",
    "        return False\n"
   ]
  },
  {
   "cell_type": "code",
   "execution_count": 29,
   "metadata": {},
   "outputs": [],
   "source": [
    "# word1 = \"cabbba\"\n",
    "# word2 = \"abbccc\"\n",
    "word1 = \"abbzzca\"\n",
    "word2 = \"babzzcz\""
   ]
  },
  {
   "cell_type": "code",
   "execution_count": 30,
   "metadata": {},
   "outputs": [
    {
     "name": "stdout",
     "output_type": "stream",
     "text": [
      "True\n"
     ]
    }
   ],
   "source": [
    "print(Solution2().closeStrings(word1, word2))"
   ]
  },
  {
   "cell_type": "markdown",
   "metadata": {},
   "source": [
    "## 考察2\n",
    "これも違った。\n"
   ]
  },
  {
   "cell_type": "code",
   "execution_count": null,
   "metadata": {},
   "outputs": [],
   "source": [
    "class Solution3(object):\n",
    "    def closeStrings(self, word1: str, word2: str) -> bool:\n",
    "        "
   ]
  },
  {
   "cell_type": "code",
   "execution_count": 2,
   "metadata": {},
   "outputs": [],
   "source": [
    "# word1 = \"abbzzca\"\n",
    "# word2 = \"babzzcz\"\n",
    "word1 = \"svotbsgqiqmeqjwdqqtkucrzqphqxqtqqlyfan\"\n",
    "word2 = \"aapyhufaaaalkqsvtjnaaoewxkrgsbsazadmci\""
   ]
  },
  {
   "cell_type": "code",
   "execution_count": 3,
   "metadata": {},
   "outputs": [
    {
     "name": "stdout",
     "output_type": "stream",
     "text": [
      "False\n"
     ]
    }
   ],
   "source": [
    "print(Solution3().closeStrings(word1, word2))"
   ]
  },
  {
   "cell_type": "code",
   "execution_count": 4,
   "metadata": {},
   "outputs": [
    {
     "name": "stdout",
     "output_type": "stream",
     "text": [
      "{'a': 1, 'b': 2}\n"
     ]
    }
   ],
   "source": [
    "new_dict = dict()\n",
    "\n",
    "new_dict[\"a\"] = 1\n",
    "new_dict[\"b\"] = 2\n",
    "print(new_dict)\n"
   ]
  },
  {
   "cell_type": "code",
   "execution_count": 5,
   "metadata": {},
   "outputs": [
    {
     "name": "stdout",
     "output_type": "stream",
     "text": [
      "dict_keys(['a', 'b'])\n"
     ]
    }
   ],
   "source": [
    "print(new_dict.keys())"
   ]
  },
  {
   "cell_type": "code",
   "execution_count": 6,
   "metadata": {},
   "outputs": [
    {
     "name": "stdout",
     "output_type": "stream",
     "text": [
      "dict_values([1, 2])\n"
     ]
    }
   ],
   "source": [
    "print(new_dict.values())"
   ]
  },
  {
   "cell_type": "markdown",
   "metadata": {},
   "source": [
    "## 考察2\n",
    "\n",
    "なぜ正解にならないのかわからなかった。パス。"
   ]
  }
 ],
 "metadata": {
  "kernelspec": {
   "display_name": ".venv",
   "language": "python",
   "name": "python3"
  },
  "language_info": {
   "codemirror_mode": {
    "name": "ipython",
    "version": 3
   },
   "file_extension": ".py",
   "mimetype": "text/x-python",
   "name": "python",
   "nbconvert_exporter": "python",
   "pygments_lexer": "ipython3",
   "version": "3.12.3"
  }
 },
 "nbformat": 4,
 "nbformat_minor": 2
}
