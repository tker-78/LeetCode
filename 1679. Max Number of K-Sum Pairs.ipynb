{
 "cells": [
  {
   "cell_type": "markdown",
   "metadata": {},
   "source": [
    "# 1679. Max Number of K-Sum Pairs"
   ]
  },
  {
   "cell_type": "markdown",
   "metadata": {},
   "source": [
    "[問題]()\n",
    "You are given an integer array nums and an integer k.\n",
    "\n",
    "In one operation, you can pick two numbers from the array whose sum equals k and remove them from the array.\n",
    "\n",
    "Return the maximum number of operations you can perform on the array.\n"
   ]
  },
  {
   "cell_type": "markdown",
   "metadata": {},
   "source": [
    "## 解答の方針"
   ]
  },
  {
   "cell_type": "markdown",
   "metadata": {},
   "source": [
    "2重ループは、おそらく不合格になるので、使わない。\n",
    "two pointersを使う。\n",
    "そのために、最初にソートする。"
   ]
  },
  {
   "cell_type": "markdown",
   "metadata": {},
   "source": [
    "## 実装"
   ]
  },
  {
   "cell_type": "code",
   "execution_count": 46,
   "metadata": {},
   "outputs": [],
   "source": [
    "from typing import List\n",
    "class Solution(object):\n",
    "    def maxOperations(self, nums: List[int], k: int) -> int:\n",
    "        count = 0\n",
    "        left, right = 0, len(nums) - 1\n",
    "        nums = sorted(nums)\n",
    "        while left < right:\n",
    "            if nums[left] + nums[right] > k:\n",
    "                right -= 1\n",
    "            elif nums[left] + nums[right] < k:\n",
    "                left += 1\n",
    "            elif nums[left] + nums[right] == k:\n",
    "                count += 1\n",
    "                left += 1\n",
    "                right -= 1\n",
    "        return count"
   ]
  },
  {
   "cell_type": "code",
   "execution_count": 49,
   "metadata": {},
   "outputs": [],
   "source": [
    "nums = [3,1,3,4,3]\n",
    "k = 6\n",
    "# nums = [1,2,3,4,1, 3,1]\n",
    "# k = 5"
   ]
  },
  {
   "cell_type": "code",
   "execution_count": 50,
   "metadata": {},
   "outputs": [
    {
     "name": "stdout",
     "output_type": "stream",
     "text": [
      "1\n"
     ]
    }
   ],
   "source": [
    "print(Solution().maxOperations(nums, k))"
   ]
  },
  {
   "cell_type": "markdown",
   "metadata": {},
   "source": [
    "## 考察\n"
   ]
  }
 ],
 "metadata": {
  "kernelspec": {
   "display_name": ".venv",
   "language": "python",
   "name": "python3"
  },
  "language_info": {
   "codemirror_mode": {
    "name": "ipython",
    "version": 3
   },
   "file_extension": ".py",
   "mimetype": "text/x-python",
   "name": "python",
   "nbconvert_exporter": "python",
   "pygments_lexer": "ipython3",
   "version": "3.12.3"
  }
 },
 "nbformat": 4,
 "nbformat_minor": 2
}
