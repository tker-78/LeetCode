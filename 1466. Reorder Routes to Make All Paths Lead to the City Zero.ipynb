{
 "cells": [
  {
   "cell_type": "markdown",
   "metadata": {},
   "source": [
    "# 1466. Reorder Routes to Make All Paths Lead to the City Zero\n",
    "[問題](https://leetcode.com/problems/reorder-routes-to-make-all-paths-lead-to-the-city-zero/?envType=study-plan-v2&envId=leetcode-75)  \n",
    "\n",
    "There are n cities numbered from 0 to n - 1 and n - 1 roads such that there is only one way to travel between two different cities (this network form a tree). Last year, The ministry of transport decided to orient the roads in one direction because they are too narrow.\n",
    "\n",
    "Roads are represented by connections where connections[i] = [ai, bi] represents a road from city ai to city bi.\n",
    "\n",
    "This year, there will be a big event in the capital (city 0), and many people want to travel to this city.\n",
    "\n",
    "Your task consists of reorienting some roads such that each city can visit the city 0. Return the minimum number of edges changed.\n",
    "\n",
    "It's guaranteed that each city can reach city 0 after reorder.\n",
    "\n",
    "## 回答の方針\n",
    "\n",
    "幅優先探索を用いる。parent nodeからchiled nodeの対して伸びているedgeを検出できればよい。\n",
    "bfsなのでdequeをつかう。\n",
    "\n",
    "\n"
   ]
  },
  {
   "cell_type": "markdown",
   "metadata": {},
   "source": [
    "## 実装"
   ]
  },
  {
   "cell_type": "code",
   "execution_count": 20,
   "metadata": {},
   "outputs": [],
   "source": [
    "from typing import List\n",
    "from collections import deque, defaultdict\n",
    "class Solution(object):\n",
    "    def minReorder(self, n: int, connections: List[List[int]]) -> int:\n",
    "        adj = defaultdict(set)\n",
    "        connections = set(((u, v) for u, v in connections))\n",
    "        print(adj)\n",
    "        print(connections)\n",
    "        for u, v in connections:\n",
    "            adj[u].add(v)\n",
    "            adj[v].add(u)\n",
    "        print(adj)\n",
    "        \n",
    "        queue = deque([0])\n",
    "        visited = set([0])\n",
    "\n",
    "        count = 0\n",
    "        while queue:\n",
    "            node = queue.popleft()\n",
    "            for nei in adj[node]:\n",
    "                if nei not in visited:\n",
    "                    if (node, nei) in connections:\n",
    "                        count += 1\n",
    "                    queue.append(nei)\n",
    "                    visited.add(nei)\n",
    "        return count\n",
    "        "
   ]
  },
  {
   "cell_type": "code",
   "execution_count": 21,
   "metadata": {},
   "outputs": [],
   "source": [
    "n = 6\n",
    "connections = [[0,1],[1,3],[2,3],[4,0],[4,5]]"
   ]
  },
  {
   "cell_type": "code",
   "execution_count": 22,
   "metadata": {},
   "outputs": [
    {
     "name": "stdout",
     "output_type": "stream",
     "text": [
      "defaultdict(<class 'set'>, {})\n",
      "{(0, 1), (4, 0), (2, 3), (4, 5), (1, 3)}\n",
      "defaultdict(<class 'set'>, {0: {1, 4}, 1: {0, 3}, 4: {0, 5}, 2: {3}, 3: {1, 2}, 5: {4}})\n",
      "3\n"
     ]
    }
   ],
   "source": [
    "print(Solution().minReorder(n, connections))"
   ]
  },
  {
   "cell_type": "code",
   "execution_count": null,
   "metadata": {},
   "outputs": [],
   "source": []
  }
 ],
 "metadata": {
  "kernelspec": {
   "display_name": ".venv",
   "language": "python",
   "name": "python3"
  },
  "language_info": {
   "codemirror_mode": {
    "name": "ipython",
    "version": 3
   },
   "file_extension": ".py",
   "mimetype": "text/x-python",
   "name": "python",
   "nbconvert_exporter": "python",
   "pygments_lexer": "ipython3",
   "version": "3.12.3"
  }
 },
 "nbformat": 4,
 "nbformat_minor": 2
}
