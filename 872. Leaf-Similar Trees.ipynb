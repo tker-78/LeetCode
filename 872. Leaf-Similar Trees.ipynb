{
 "cells": [
  {
   "cell_type": "markdown",
   "metadata": {},
   "source": [
    "# 872. Leaf-Similar Trees\n",
    "[問題](https://leetcode.com/problems/leaf-similar-trees/?envType=study-plan-v2&envId=leetcode-75)  \n",
    "\n",
    "Consider all the leaves of a binary tree, from left to right order, the values of those leaves form a leaf value sequence.\n",
    "\n",
    "## 回答の方針\n",
    "葉の部分をリストに格納して、判定する。\n",
    "\n",
    "## 実装\n",
    "\n"
   ]
  },
  {
   "cell_type": "code",
   "execution_count": 28,
   "metadata": {},
   "outputs": [],
   "source": [
    "from typing import Optional, List\n",
    "\n",
    "class TreeNode:\n",
    "    def __init__(self, val=0, left=None, right=None):\n",
    "        self.val = val\n",
    "        self.left = left\n",
    "        self.right = right\n",
    "\n",
    "class Solution(object):\n",
    "    def leafSimilar(self, root1: Optional[TreeNode], root2: Optional[TreeNode]) -> bool:\n",
    "        values1, values2 = [], []\n",
    "        values1 = self.dfs(root1, values1)\n",
    "        values2 = self.dfs(root2, values2)\n",
    "        print(values1, values2)\n",
    "\n",
    "        return values1 == values2\n",
    "    \n",
    "\n",
    "    def dfs(self, root: Optional[TreeNode], values: List[int]) -> int:\n",
    "        if root is None:\n",
    "            return 0\n",
    "        \n",
    "        if root.left is None and root.left is None:\n",
    "            values.append(root.val)\n",
    "        \n",
    "        self.dfs(root.right, values)\n",
    "        self.dfs(root.left, values)\n",
    "\n",
    "        return values\n"
   ]
  },
  {
   "cell_type": "code",
   "execution_count": 32,
   "metadata": {},
   "outputs": [],
   "source": [
    "root1 = TreeNode(3, \n",
    "                 TreeNode(5, TreeNode(6), TreeNode(2, TreeNode(7), TreeNode(4))),\n",
    "                 TreeNode(1, TreeNode(9), TreeNode(8))\n",
    "                 )\n",
    "\n",
    "root2 = TreeNode(3,\n",
    "                 TreeNode(5, TreeNode(6), TreeNode(7)),\n",
    "                 TreeNode(1, TreeNode(4), TreeNode(2, TreeNode(9), TreeNode(8))))\n",
    "\n",
    "# root1 = TreeNode(1, TreeNode(2), TreeNode(3))\n",
    "# root2 = TreeNode(1, TreeNode(3), TreeNode(2))"
   ]
  },
  {
   "cell_type": "code",
   "execution_count": 33,
   "metadata": {},
   "outputs": [
    {
     "name": "stdout",
     "output_type": "stream",
     "text": [
      "[8, 9, 4, 7, 6] [8, 9, 4, 7, 6]\n",
      "True\n"
     ]
    }
   ],
   "source": [
    "print(Solution().leafSimilar(root1, root2))"
   ]
  },
  {
   "cell_type": "markdown",
   "metadata": {},
   "source": [
    "## 考察\n",
    "上記コードでOK.  \n",
    "ポイントは、dfsの引数にvaluesを与えることで、dfsの関数に変数を閉じ込めること。\n",
    "\n"
   ]
  }
 ],
 "metadata": {
  "kernelspec": {
   "display_name": ".venv",
   "language": "python",
   "name": "python3"
  },
  "language_info": {
   "codemirror_mode": {
    "name": "ipython",
    "version": 3
   },
   "file_extension": ".py",
   "mimetype": "text/x-python",
   "name": "python",
   "nbconvert_exporter": "python",
   "pygments_lexer": "ipython3",
   "version": "3.12.3"
  }
 },
 "nbformat": 4,
 "nbformat_minor": 2
}
