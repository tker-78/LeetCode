{
 "cells": [
  {
   "cell_type": "markdown",
   "metadata": {},
   "source": [
    "# 2309. Removing Stars From a String\n",
    "[問題]()  \n",
    "\n",
    "You are given a string s, which contains stars *.\n",
    "\n",
    "In one operation, you can:\n",
    "\n",
    "Choose a star in s.\n",
    "Remove the closest non-star character to its left, as well as remove the star itself.\n",
    "Return the string after all stars have been removed.\n",
    "\n",
    "Note:\n",
    "\n",
    "The input will be generated such that the operation is always possible.\n",
    "It can be shown that the resulting string will always be unique.\n",
    "\n",
    "## 回答の方針\n",
    "1回のオペレーションで完了するためには、pointerを使って*が出現したら、\n",
    "leftを削除して、rightも削除する。\n",
    "\n",
    "## 実装"
   ]
  },
  {
   "cell_type": "code",
   "execution_count": 28,
   "metadata": {},
   "outputs": [],
   "source": [
    "class Solution(object):\n",
    "    def removeStars(self, s: str) -> str:\n",
    "        left, right = 0, 0\n",
    "        n = len(s)\n",
    "        while right < n:\n",
    "            if s[right] == \"*\":\n",
    "                left = right - 1\n",
    "                s = s[0:left] + s[right+1:]\n",
    "                n -= 2\n",
    "                right -= 1\n",
    "            else:\n",
    "                right += 1\n",
    "        return s\n",
    "\n",
    "\n",
    "\n",
    "\n",
    "\n"
   ]
  },
  {
   "cell_type": "code",
   "execution_count": 31,
   "metadata": {},
   "outputs": [],
   "source": [
    "s = \"leet**cod*e\"\n",
    "# s = \"erase*****\""
   ]
  },
  {
   "cell_type": "code",
   "execution_count": 32,
   "metadata": {},
   "outputs": [
    {
     "name": "stdout",
     "output_type": "stream",
     "text": [
      "lecoe\n"
     ]
    }
   ],
   "source": [
    "print(Solution().removeStars(s))"
   ]
  },
  {
   "cell_type": "markdown",
   "metadata": {},
   "source": [
    "## 考察\n",
    "上記コードでOK.\n",
    "stackを使って効率化をすると下記のようにかける。\n",
    "Solution1よりもruntimeが1/20程度になる。"
   ]
  },
  {
   "cell_type": "code",
   "execution_count": 36,
   "metadata": {},
   "outputs": [],
   "source": [
    "class Solution2(object):\n",
    "    def removeStars(self, s: str) -> str:\n",
    "        st = []\n",
    "        for i in range(0, len(s)):\n",
    "            if s[i] == \"*\":\n",
    "                st.pop()\n",
    "            else:\n",
    "                st.append(s[i])\n",
    "        return ''.join(st)\n",
    "\n"
   ]
  },
  {
   "cell_type": "code",
   "execution_count": 37,
   "metadata": {},
   "outputs": [],
   "source": [
    "s = \"leet**cod*e\"\n",
    "# s = \"erase*****\""
   ]
  },
  {
   "cell_type": "code",
   "execution_count": 38,
   "metadata": {},
   "outputs": [
    {
     "name": "stdout",
     "output_type": "stream",
     "text": [
      "lecoe\n"
     ]
    }
   ],
   "source": [
    "print(Solution2().removeStars(s))"
   ]
  },
  {
   "cell_type": "code",
   "execution_count": null,
   "metadata": {},
   "outputs": [],
   "source": []
  }
 ],
 "metadata": {
  "kernelspec": {
   "display_name": ".venv",
   "language": "python",
   "name": "python3"
  },
  "language_info": {
   "codemirror_mode": {
    "name": "ipython",
    "version": 3
   },
   "file_extension": ".py",
   "mimetype": "text/x-python",
   "name": "python",
   "nbconvert_exporter": "python",
   "pygments_lexer": "ipython3",
   "version": "3.12.3"
  }
 },
 "nbformat": 4,
 "nbformat_minor": 2
}
