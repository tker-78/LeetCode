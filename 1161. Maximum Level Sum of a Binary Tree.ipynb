{
 "cells": [
  {
   "cell_type": "markdown",
   "metadata": {},
   "source": [
    "# 1161. Maximum Level Sum of a Binary Tree\n",
    "[問題](https://leetcode.com/problems/maximum-level-sum-of-a-binary-tree/?envType=study-plan-v2&envId=leetcode-75)  \n",
    "\n",
    "Given the root of a binary tree, the level of its root is 1, the level of its children is 2, and so on.\n",
    "\n",
    "Return the smallest level x such that the sum of all the values of nodes at level x is maximal.\n",
    "\n",
    "\n",
    "## 回答の方針\n",
    "\n",
    "\n",
    "## 実装\n"
   ]
  },
  {
   "cell_type": "code",
   "execution_count": 1,
   "metadata": {},
   "outputs": [],
   "source": [
    "from typing import Optional, List\n",
    "class TreeNode(object):\n",
    "    def __init__(self, val=0, left=None, right=None):\n",
    "        self.val = val\n",
    "        self.left = left\n",
    "        self.right = right\n",
    "\n",
    "class Solution(object):\n",
    "    def maxLevelSum(self, root: Optional[TreeNode]) -> int:\n",
    "        def dfs(node: Optional[TreeNode], level: int, current_sum: List) -> None:\n",
    "            if node is None:\n",
    "                return\n",
    "            \n",
    "            if len(current_sum) == level:\n",
    "                current_sum.append(node.val)\n",
    "            \n",
    "            else:\n",
    "                current_sum[level] += node.val\n",
    "\n",
    "            dfs(node.left, level + 1, current_sum)\n",
    "            dfs(node.right, level + 1, current_sum)\n",
    "        \n",
    "        current_sum = []\n",
    "        dfs(root, 0, current_sum)\n",
    "        return 1 + current_sum.index(max(current_sum))\n",
    "\n"
   ]
  },
  {
   "cell_type": "code",
   "execution_count": 2,
   "metadata": {},
   "outputs": [],
   "source": [
    "root = TreeNode(1, \n",
    "                TreeNode(7, \n",
    "                         TreeNode(7), TreeNode(-8)),\n",
    "                TreeNode(0))"
   ]
  },
  {
   "cell_type": "code",
   "execution_count": 3,
   "metadata": {},
   "outputs": [
    {
     "name": "stdout",
     "output_type": "stream",
     "text": [
      "2\n"
     ]
    }
   ],
   "source": [
    "print(Solution().maxLevelSum(root))"
   ]
  },
  {
   "cell_type": "markdown",
   "metadata": {},
   "source": [
    "## 考察\n",
    "なんとなくイメージはつかめた。"
   ]
  }
 ],
 "metadata": {
  "kernelspec": {
   "display_name": "Python 3 (ipykernel)",
   "language": "python",
   "name": "python3"
  },
  "language_info": {
   "codemirror_mode": {
    "name": "ipython",
    "version": 3
   },
   "file_extension": ".py",
   "mimetype": "text/x-python",
   "name": "python",
   "nbconvert_exporter": "python",
   "pygments_lexer": "ipython3",
   "version": "3.12.3"
  }
 },
 "nbformat": 4,
 "nbformat_minor": 4
}
