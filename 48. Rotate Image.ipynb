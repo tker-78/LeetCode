{
 "cells": [
  {
   "cell_type": "markdown",
   "metadata": {},
   "source": [
    "# 48. Rotate Image\n",
    "[問題](https://leetcode.com/problems/rotate-image/description/)"
   ]
  },
  {
   "cell_type": "markdown",
   "metadata": {},
   "source": [
    "## 解答の方針\n"
   ]
  },
  {
   "cell_type": "code",
   "execution_count": 1,
   "metadata": {},
   "outputs": [],
   "source": [
    "import ipytest\n",
    "ipytest.autoconfig()"
   ]
  },
  {
   "cell_type": "code",
   "execution_count": 23,
   "metadata": {},
   "outputs": [],
   "source": [
    "from typing import List\n",
    "class Solution():\n",
    "    def rotateImage(self, matrix: List[List[int]]) -> List[List[int]]:\n",
    "        n = len(matrix[0])\n",
    "        for i in range(n // 2 + n % 2):\n",
    "            for j in range(n // 2):\n",
    "                # 左下の要素を保管\n",
    "                tmp = matrix[n-1-j][i]\n",
    "                # 右下を左下に\n",
    "                matrix[n-1-j][i] = matrix[n-1-i][n-1-j]\n",
    "                # 右上を右下に\n",
    "                matrix[n-1-i][n-1-j] = matrix[j][n-1-i]\n",
    "                # 左上を右上に\n",
    "                matrix[j][n-1-i] = matrix[i][j]\n",
    "                # 左上に保管した左下を\n",
    "                matrix[i][j] = tmp\n",
    "        print(matrix)\n",
    "\n"
   ]
  },
  {
   "cell_type": "code",
   "execution_count": 24,
   "metadata": {},
   "outputs": [],
   "source": [
    "matrix = [[1,2,3],[4,5,6],[7,8,9]]\n",
    "output = [[7,4,1],[8,5,2],[9,6,3]]"
   ]
  },
  {
   "cell_type": "code",
   "execution_count": 25,
   "metadata": {},
   "outputs": [
    {
     "name": "stdout",
     "output_type": "stream",
     "text": [
      "[[7, 4, 1], [8, 5, 2], [9, 6, 3]]\n",
      "\u001b[32m.\u001b[0m\n",
      "\u001b[32m\u001b[32m\u001b[1m1 passed\u001b[0m\u001b[32m in 0.22s\u001b[0m\u001b[0m\n"
     ]
    }
   ],
   "source": [
    "%%ipytest -s\n",
    "def test_rotate():\n",
    "    Solution().rotateImage(matrix)\n",
    "    assert matrix == output "
   ]
  },
  {
   "cell_type": "code",
   "execution_count": null,
   "metadata": {},
   "outputs": [],
   "source": []
  }
 ],
 "metadata": {
  "kernelspec": {
   "display_name": ".venv",
   "language": "python",
   "name": "python3"
  },
  "language_info": {
   "codemirror_mode": {
    "name": "ipython",
    "version": 3
   },
   "file_extension": ".py",
   "mimetype": "text/x-python",
   "name": "python",
   "nbconvert_exporter": "python",
   "pygments_lexer": "ipython3",
   "version": "3.12.3"
  }
 },
 "nbformat": 4,
 "nbformat_minor": 2
}
