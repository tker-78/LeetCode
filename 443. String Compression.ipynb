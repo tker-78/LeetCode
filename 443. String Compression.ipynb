{
 "cells": [
  {
   "cell_type": "markdown",
   "metadata": {},
   "source": [
    "# 443. String Compression\n",
    "[問題](https://leetcode.com/problems/string-compression/?envType=study-plan-v2&envId=leetcode-75)  \n",
    "\n",
    "Given an array of characters chars, compress it using the following algorithm:\n",
    "\n",
    "Begin with an empty string s. For each group of consecutive repeating characters in chars:\n",
    "\n",
    "If the group's length is 1, append the character to s.\n",
    "Otherwise, append the character followed by the group's length.\n",
    "The compressed string s should not be returned separately, but instead, be stored in the input character array chars. Note that group lengths that are 10 or longer will be split into multiple characters in chars.\n",
    "\n",
    "After you are done modifying the input array, return the new length of the array.\n",
    "\n",
    "You must write an algorithm that uses only constant extra space.\n",
    "\n",
    " \n",
    "```\n",
    "Example 1:\n",
    "\n",
    "Input: chars = [\"a\",\"a\",\"b\",\"b\",\"c\",\"c\",\"c\"]\n",
    "Output: Return 6, and the first 6 characters of the input array should be: [\"a\",\"2\",\"b\",\"2\",\"c\",\"3\"]\n",
    "Explanation: The groups are \"aa\", \"bb\", and \"ccc\". This compresses to \"a2b2c3\".\n",
    "Example 2:\n",
    "\n",
    "Input: chars = [\"a\"]\n",
    "Output: Return 1, and the first character of the input array should be: [\"a\"]\n",
    "Explanation: The only group is \"a\", which remains uncompressed since it's a single character.\n",
    "Example 3:\n",
    "\n",
    "Input: chars = [\"a\",\"b\",\"b\",\"b\",\"b\",\"b\",\"b\",\"b\",\"b\",\"b\",\"b\",\"b\",\"b\"]\n",
    "Output: Return 4, and the first 4 characters of the input array should be: [\"a\",\"b\",\"1\",\"2\"].\n",
    "Explanation: The groups are \"a\" and \"bbbbbbbbbbbb\". This compresses to \"ab12\".\n",
    "\n",
    "```\n",
    "\n",
    "## 回答の方針\n",
    "defaultdictを使う。\n",
    "カウントが10を超える場合は、最後にsplitする。\n",
    "\n",
    "\n",
    "## 実装"
   ]
  },
  {
   "cell_type": "code",
   "execution_count": 1,
   "metadata": {},
   "outputs": [],
   "source": [
    "from typing import List\n",
    "from collections import defaultdict\n",
    "import itertools\n",
    "class Solution(object):\n",
    "    def compress(self, chars: List[str]) -> int:\n",
    "        char_dict = defaultdict(int)\n",
    "        for c in chars:\n",
    "            if c in char_dict.keys():\n",
    "                char_dict[c] += 1\n",
    "            else:\n",
    "                char_dict[c] = 1\n",
    "        print(char_dict)\n",
    "        k, v = [], []\n",
    "        for key in char_dict.keys():\n",
    "            k.append(key)\n",
    "        for value in char_dict.values():\n",
    "            v.append(value)\n",
    "        \n",
    "        ans = []\n",
    "        while v:\n",
    "            ans.append(k.pop(0))\n",
    "            ans.append(str(v.pop(0)))\n",
    "        \n",
    "        for v in ans:\n",
    "            if len(v) > 1:\n",
    "                v = list(v)\n",
    "        \n",
    "        ans = list(itertools.chain.from_iterable(ans))\n",
    "        return ans\n"
   ]
  },
  {
   "cell_type": "code",
   "execution_count": 2,
   "metadata": {},
   "outputs": [],
   "source": [
    "chars = [\"a\",\"b\",\"b\",\"b\",\"b\",\"b\",\"b\",\"b\",\"b\",\"b\",\"b\",\"b\",\"b\"]"
   ]
  },
  {
   "cell_type": "code",
   "execution_count": 3,
   "metadata": {},
   "outputs": [
    {
     "name": "stdout",
     "output_type": "stream",
     "text": [
      "defaultdict(<class 'int'>, {'a': 1, 'b': 12})\n",
      "['a', '1', 'b', '1', '2']\n"
     ]
    }
   ],
   "source": [
    "print(Solution().compress(chars))"
   ]
  },
  {
   "cell_type": "markdown",
   "metadata": {},
   "source": [
    "## 考察\n",
    "charsを直接操作する必要がある。\n",
    "模範解答は下記の通り。\n"
   ]
  },
  {
   "cell_type": "code",
   "execution_count": 24,
   "metadata": {},
   "outputs": [],
   "source": [
    "from typing import List\n",
    "class Solution2(object):\n",
    "    def compress(self, chars: List[int]) -> int:\n",
    "        i, ans = 0, 0\n",
    "        while i < len(chars):\n",
    "            count = 1\n",
    "            while (i + count < len(chars)) and chars[i+count] == chars[i]:\n",
    "                count += 1\n",
    "            chars[ans] = chars[i]\n",
    "            ans += 1\n",
    "            if count > 1:\n",
    "                str_count = str(count) # 10 -> \"10\"\n",
    "                chars[ans:ans+len(str_count)] = list(str_count)\n",
    "                ans += len(str_count)\n",
    "            i += count\n",
    "        print(chars)\n",
    "        return ans\n",
    "        \n"
   ]
  },
  {
   "cell_type": "code",
   "execution_count": 28,
   "metadata": {},
   "outputs": [],
   "source": [
    "chars = [\"a\",\"b\",\"b\",\"b\",\"b\",\"b\",\"b\",\"b\",\"b\",\"b\",\"b\",\"b\",\"b\"]\n",
    "chars = [\"a\",\"a\",\"b\",\"b\",\"c\",\"c\",\"c\"]"
   ]
  },
  {
   "cell_type": "code",
   "execution_count": 29,
   "metadata": {},
   "outputs": [
    {
     "name": "stdout",
     "output_type": "stream",
     "text": [
      "['a', '2', 'b', '2', 'c', '3', 'c']\n"
     ]
    }
   ],
   "source": [
    "ans = Solution2().compress(chars)"
   ]
  },
  {
   "cell_type": "code",
   "execution_count": 30,
   "metadata": {},
   "outputs": [
    {
     "name": "stdout",
     "output_type": "stream",
     "text": [
      "6\n"
     ]
    }
   ],
   "source": [
    "print(ans)"
   ]
  },
  {
   "cell_type": "markdown",
   "metadata": {},
   "source": [
    "## 考察\n",
    "どのような処理で判定されるのかがわかりにくかった。\n",
    "charsを書き換えて、返り値の数値分charsを読み取っているようだった。"
   ]
  }
 ],
 "metadata": {
  "kernelspec": {
   "display_name": ".venv",
   "language": "python",
   "name": "python3"
  },
  "language_info": {
   "codemirror_mode": {
    "name": "ipython",
    "version": 3
   },
   "file_extension": ".py",
   "mimetype": "text/x-python",
   "name": "python",
   "nbconvert_exporter": "python",
   "pygments_lexer": "ipython3",
   "version": "3.12.3"
  }
 },
 "nbformat": 4,
 "nbformat_minor": 2
}
