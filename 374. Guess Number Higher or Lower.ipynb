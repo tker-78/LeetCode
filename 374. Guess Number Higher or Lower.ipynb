{
 "cells": [
  {
   "cell_type": "markdown",
   "metadata": {},
   "source": [
    "# 374. Guess Number Higher or Lower\n",
    "[問題](https://leetcode.com/problems/guess-number-higher-or-lower/description/?envType=study-plan-v2&envId=leetcode-75)"
   ]
  },
  {
   "cell_type": "markdown",
   "metadata": {},
   "source": [
    "## 解答の方針\n",
    "総当たりにすると処理時間が超過するので、\n",
    "バイナリサーチを使う。"
   ]
  },
  {
   "cell_type": "code",
   "execution_count": 1,
   "metadata": {},
   "outputs": [],
   "source": [
    "class Solution():\n",
    "    def guessNumber(self, n: int) -> int:\n",
    "        low, high = 1, n\n",
    "        while low <= high:\n",
    "            mid = low + (high - low) /2\n",
    "            res = guess(mid)\n",
    "            if res == 0:\n",
    "                return mid\n",
    "            elif res <0:\n",
    "                high = mid -1\n",
    "            else:\n",
    "                high = mid + 1\n",
    "        return -1"
   ]
  },
  {
   "cell_type": "markdown",
   "metadata": {},
   "source": [
    "## 考察\n",
    "バイナリサーチでも処理時間が超過する。"
   ]
  },
  {
   "cell_type": "markdown",
   "metadata": {},
   "source": []
  }
 ],
 "metadata": {
  "kernelspec": {
   "display_name": ".venv",
   "language": "python",
   "name": "python3"
  },
  "language_info": {
   "codemirror_mode": {
    "name": "ipython",
    "version": 3
   },
   "file_extension": ".py",
   "mimetype": "text/x-python",
   "name": "python",
   "nbconvert_exporter": "python",
   "pygments_lexer": "ipython3",
   "version": "3.12.3"
  }
 },
 "nbformat": 4,
 "nbformat_minor": 2
}
