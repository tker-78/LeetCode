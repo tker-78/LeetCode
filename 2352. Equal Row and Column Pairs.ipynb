{
 "cells": [
  {
   "cell_type": "markdown",
   "metadata": {},
   "source": [
    "# 2352. Equal Row and Column Pairs\n",
    "[問題]()  \n",
    "Given a 0-indexed n x n integer matrix grid, return the number of pairs (ri, cj) such that row ri and column cj are equal.\n",
    "\n",
    "A row and column pair is considered equal if they contain the same elements in the same order (i.e., an equal array).\n",
    "\n",
    "## 回答の方針\n",
    "2重ループは多分TimeLimitExeededになる。  \n",
    "まず列のsetと行のsetを作って、nxnにならなかったらfalse.\n",
    "setが一致する列と行を抽出して、要素が一致しているかチェックする。\n",
    "\n",
    "## 実装\n"
   ]
  },
  {
   "cell_type": "code",
   "execution_count": 51,
   "metadata": {},
   "outputs": [],
   "source": [
    "from typing import List, Set\n",
    "class Solution(object):\n",
    "    def equalPairs(self, grid: List[List[int]]) -> int:\n",
    "        grid_set_col = [] # 列\n",
    "        grid_set_row = [] # 行\n",
    "\n",
    "        grid_col = []\n",
    "        grid_row = []\n",
    "\n",
    "        # 行のsetを作る\n",
    "        for item in grid:\n",
    "            grid_set_col.append(set(item))\n",
    "        \n",
    "        # 列のsetを作る\n",
    "        inversed_grid = []\n",
    "        for i in range(len(grid)):\n",
    "            partial_grid = []\n",
    "            for j in range(len(grid[0])):\n",
    "                partial_grid.append(grid[j][i])\n",
    "            inversed_grid.append(partial_grid)\n",
    "        for item in inversed_grid:\n",
    "            grid_set_row.append(set(item))\n",
    "        print(grid_set_col)\n",
    "        print(grid_set_row)\n",
    "        rows = []\n",
    "\n",
    "        for i, itemr in enumerate(grid_set_col):\n",
    "            for j, itemc in enumerate(grid_set_row):\n",
    "                if itemr == itemc:\n",
    "                    rows.append([i,j])\n",
    "        \n",
    "        print(rows)\n",
    "\n",
    "        count = 0\n",
    "        for item in rows:\n",
    "            if grid[item[0]] == grid[item[1]]:\n",
    "                count += 1\n",
    "        return count\n",
    "\n",
    "\n",
    "\n"
   ]
  },
  {
   "cell_type": "code",
   "execution_count": 52,
   "metadata": {},
   "outputs": [
    {
     "data": {
      "text/plain": [
       "'\\n3 1 2 2\\n1 4 4 4\\n2 4 2 2\\n2 5 2 2\\n'"
      ]
     },
     "execution_count": 52,
     "metadata": {},
     "output_type": "execute_result"
    }
   ],
   "source": [
    "# grid = [[3,2,1],[1,7,6],[2,7,7]]\n",
    "# grid = [[3,1,2,2],[1,4,4,5],[2,4,2,2],[2,4,2,2]]\n",
    "grid = [[3,1,2,2],[1,4,4,4],[2,4,2,2],[2,5,2,2]]\n",
    "\"\"\"\n",
    "3 1 2 2\n",
    "1 4 4 4\n",
    "2 4 2 2\n",
    "2 5 2 2\n",
    "\"\"\""
   ]
  },
  {
   "cell_type": "code",
   "execution_count": 53,
   "metadata": {},
   "outputs": [
    {
     "name": "stdout",
     "output_type": "stream",
     "text": [
      "[{1, 2, 3}, {1, 4}, {2, 4}, {2, 5}]\n",
      "[{1, 2, 3}, {1, 4, 5}, {2, 4}, {2, 4}]\n",
      "[[0, 0], [2, 2], [2, 3]]\n",
      "2\n"
     ]
    }
   ],
   "source": [
    "print(Solution().equalPairs(grid))"
   ]
  },
  {
   "cell_type": "markdown",
   "metadata": {},
   "source": [
    "## 考察\n",
    "複雑になってきてうまくいかなくなった。\n",
    "HashMapをうまく使う。"
   ]
  },
  {
   "cell_type": "code",
   "execution_count": 80,
   "metadata": {},
   "outputs": [],
   "source": [
    "import collections\n",
    "class Solution2(object):\n",
    "    def equalPairs(self, grid: List[List[int]]) -> int:\n",
    "        inversed_grid = []\n",
    "        for c in range(len(grid)):\n",
    "            col = [grid[i][c] for i in range(len(grid))]\n",
    "            inversed_grid.append(col)\n",
    "        \n",
    "        counter = 0\n",
    "\n",
    "        for i in range(len(grid)):\n",
    "            for j in range(len(grid)):\n",
    "                if grid[i] == inversed_grid[j]:\n",
    "                    counter += 1\n",
    "\n",
    "        return counter\n",
    "\n",
    "        \n"
   ]
  },
  {
   "cell_type": "code",
   "execution_count": 81,
   "metadata": {},
   "outputs": [],
   "source": [
    "grid = [[3,1,2,2],[1,4,4,4],[2,4,2,2],[2,5,2,2]]"
   ]
  },
  {
   "cell_type": "code",
   "execution_count": 82,
   "metadata": {},
   "outputs": [
    {
     "name": "stdout",
     "output_type": "stream",
     "text": [
      "3\n"
     ]
    }
   ],
   "source": [
    "print(Solution2().equalPairs(grid))"
   ]
  },
  {
   "cell_type": "markdown",
   "metadata": {},
   "source": [
    "これでOK."
   ]
  },
  {
   "cell_type": "markdown",
   "metadata": {},
   "source": []
  }
 ],
 "metadata": {
  "kernelspec": {
   "display_name": ".venv",
   "language": "python",
   "name": "python3"
  },
  "language_info": {
   "codemirror_mode": {
    "name": "ipython",
    "version": 3
   },
   "file_extension": ".py",
   "mimetype": "text/x-python",
   "name": "python",
   "nbconvert_exporter": "python",
   "pygments_lexer": "ipython3",
   "version": "3.12.3"
  }
 },
 "nbformat": 4,
 "nbformat_minor": 2
}
