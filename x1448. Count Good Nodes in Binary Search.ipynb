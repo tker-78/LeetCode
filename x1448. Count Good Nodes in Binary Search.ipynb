{
 "cells": [
  {
   "cell_type": "markdown",
   "metadata": {},
   "source": [
    "# 1448. Count Good Nodes in Binary Search\n",
    "[問題](https://leetcode.com/problems/count-good-nodes-in-binary-tree/?envType=study-plan-v2&envId=leetcode-75)  \n",
    "\n",
    "Given a binary tree root, a node X in the tree is named good if in the path from root to X there are no nodes with a value greater than X.\n",
    "\n",
    "Return the number of good nodes in the binary tree.\n",
    "\n",
    "## 回答の方針\n",
    "dfsで走査していくときに、そのpathのvalを記憶する。\n",
    "\n",
    "\n",
    "\n",
    "\n",
    "\n",
    "\n",
    "## 実装"
   ]
  },
  {
   "cell_type": "code",
   "execution_count": 111,
   "metadata": {},
   "outputs": [],
   "source": [
    "from typing import Optional, List\n",
    "class TreeNode(object):\n",
    "    def __init__(self, val=0, left=None, right=None):\n",
    "        self.val = val\n",
    "        self.left = left\n",
    "        self.right = right\n",
    "\n",
    "class Solution(object):\n",
    "    def goodNodes(self, root: TreeNode) -> int:\n",
    "        path = []\n",
    "        counter = 1\n",
    "        answer = self.dfs(root, path, counter)\n",
    "        return len(answer)\n",
    "\n",
    "\n",
    "\n",
    "\n",
    "    def dfs(self, root: Optional[TreeNode], path: List[int], counter: int) -> List[int]:\n",
    "        if root is None:\n",
    "            return None \n",
    "\n",
    "        # print(f'counter={counter}, path={path}')\n",
    "\n",
    "        if len(path) > 0:\n",
    "            if root.val >= max(path):\n",
    "                counter += 1\n",
    "                path.append(root.val)\n",
    "        else: \n",
    "            path.append(root.val)\n",
    "            counter += 1\n",
    "\n",
    "        self.dfs(root.left, path, counter)\n",
    "        self.dfs(root.right, path, counter)\n",
    "\n",
    "        print(path)\n",
    "\n",
    "        return path\n",
    "\n",
    "        \n",
    "        \n",
    "        \n",
    "\n",
    "        "
   ]
  },
  {
   "cell_type": "code",
   "execution_count": 99,
   "metadata": {},
   "outputs": [],
   "source": [
    "# root1 = TreeNode(3, \n",
    "#                  TreeNode(5, TreeNode(6), TreeNode(2, TreeNode(7), TreeNode(4))),\n",
    "#                  TreeNode(1, TreeNode(9), TreeNode(8))\n",
    "#                  )\n",
    "\n",
    "# root2 = TreeNode(3,\n",
    "#                  TreeNode(5, TreeNode(6), TreeNode(7)),\n",
    "#                  TreeNode(1, TreeNode(4), TreeNode(2, TreeNode(9), TreeNode(8))))\n",
    "root = TreeNode(3, \n",
    "                TreeNode(1, TreeNode(3)),\n",
    "                TreeNode(4, TreeNode(1), TreeNode(5)))"
   ]
  },
  {
   "cell_type": "code",
   "execution_count": 100,
   "metadata": {},
   "outputs": [
    {
     "name": "stdout",
     "output_type": "stream",
     "text": [
      "5\n",
      "3\n",
      "1\n"
     ]
    }
   ],
   "source": [
    "print(root.right.right.val)\n",
    "print(root.left.left.val)\n",
    "print(root.right.left.val)"
   ]
  },
  {
   "cell_type": "code",
   "execution_count": 101,
   "metadata": {},
   "outputs": [
    {
     "name": "stdout",
     "output_type": "stream",
     "text": [
      "4\n"
     ]
    }
   ],
   "source": [
    "print(Solution().goodNodes(root))"
   ]
  },
  {
   "cell_type": "markdown",
   "metadata": {},
   "source": [
    "## 考察\n",
    "下記の入力でNGになる。  \n",
    "root = [2,null,4,10,8,null,null,4]\n",
    "これは、left > rightの時に、leftが無視されてしまうから。\n"
   ]
  },
  {
   "cell_type": "code",
   "execution_count": 3,
   "metadata": {},
   "outputs": [],
   "source": [
    "root1 = TreeNode(3, None, TreeNode(4, TreeNode(10, None, None), TreeNode(8, TreeNode(4))))"
   ]
  },
  {
   "cell_type": "code",
   "execution_count": 110,
   "metadata": {},
   "outputs": [
    {
     "name": "stdout",
     "output_type": "stream",
     "text": [
      "4\n"
     ]
    }
   ],
   "source": [
    "print(root1.right.right.left.val)"
   ]
  },
  {
   "cell_type": "code",
   "execution_count": 112,
   "metadata": {},
   "outputs": [
    {
     "name": "stdout",
     "output_type": "stream",
     "text": [
      "[2, 4, 10]\n",
      "[2, 4, 10]\n",
      "[2, 4, 10]\n",
      "[2, 4, 10]\n",
      "[2, 4, 10]\n",
      "3\n"
     ]
    }
   ],
   "source": [
    "print(Solution().goodNodes(root1))"
   ]
  },
  {
   "cell_type": "markdown",
   "metadata": {},
   "source": [
    "## 修正\n",
    "回答を見て書き直す。"
   ]
  },
  {
   "cell_type": "code",
   "execution_count": 28,
   "metadata": {},
   "outputs": [],
   "source": [
    "class TreeNode(object):\n",
    "    def __init__(self, val=0, left=None, right=None):\n",
    "        self.val = val\n",
    "        self.left = left\n",
    "        self.right = right\n",
    "        \n",
    "class Solution2(object):\n",
    "    def goodNodes(self, root: TreeNode) -> int:\n",
    "        def dfs(node, max_so_far):\n",
    "            nonlocal num_good_nodes\n",
    "            if max_so_far <= node.val:\n",
    "                num_good_nodes += 1\n",
    "            if node.right:\n",
    "                dfs(node.right, max(node.val, max_so_far))\n",
    "            if node.left:\n",
    "                dfs(node.left, max(node.val, max_so_far))\n",
    "        \n",
    "        num_good_nodes = 0\n",
    "        dfs(root, root.val)\n",
    "        return num_good_nodes\n",
    "        \n"
   ]
  },
  {
   "cell_type": "code",
   "execution_count": 29,
   "metadata": {},
   "outputs": [],
   "source": [
    "# root1 = TreeNode(3, None, TreeNode(4, TreeNode(10, None, None), TreeNode(8, TreeNode(4))))\n",
    "root = TreeNode(3, \n",
    "                TreeNode(1, TreeNode(3)),\n",
    "                TreeNode(4, TreeNode(1), TreeNode(5)))"
   ]
  },
  {
   "cell_type": "code",
   "execution_count": 30,
   "metadata": {},
   "outputs": [
    {
     "name": "stdout",
     "output_type": "stream",
     "text": [
      "4\n"
     ]
    }
   ],
   "source": [
    "print(Solution2().goodNodes(root))"
   ]
  },
  {
   "cell_type": "markdown",
   "metadata": {},
   "source": [
    "## 考察\n",
    "自分ではこんなコードかけないけど、なんとなく理解できた。"
   ]
  }
 ],
 "metadata": {
  "kernelspec": {
   "display_name": ".venv",
   "language": "python",
   "name": "python3"
  },
  "language_info": {
   "codemirror_mode": {
    "name": "ipython",
    "version": 3
   },
   "file_extension": ".py",
   "mimetype": "text/x-python",
   "name": "python",
   "nbconvert_exporter": "python",
   "pygments_lexer": "ipython3",
   "version": "3.12.3"
  }
 },
 "nbformat": 4,
 "nbformat_minor": 2
}
