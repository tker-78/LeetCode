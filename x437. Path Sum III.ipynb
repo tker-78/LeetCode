{
 "cells": [
  {
   "cell_type": "markdown",
   "metadata": {},
   "source": [
    "# 437. Path Sum III\n",
    "[問題](https://leetcode.com/problems/path-sum-iii/?envType=study-plan-v2&envId=leetcode-75)  \n",
    "\n",
    "Given the root of a binary tree and an integer targetSum, return the number of paths where the sum of the values along the path equals targetSum.\n",
    "\n",
    "The path does not need to start or end at the root or a leaf, but it must go downwards (i.e., traveling only from parent nodes to child nodes).\n",
    "\n",
    "## 回答の方針\n",
    "\n",
    "\n",
    "\n",
    "## 実装"
   ]
  },
  {
   "cell_type": "code",
   "execution_count": 75,
   "metadata": {},
   "outputs": [],
   "source": [
    "from typing import Optional, List\n",
    "from collections import defaultdict\n",
    "\n",
    "class TreeNode(object):\n",
    "    def __init__(self, val=0, left=None, right=None):\n",
    "        self.val = val\n",
    "        self.left = left\n",
    "        self.right = right\n",
    "\n",
    "class Solution(object):\n",
    "    def pathSum(self, root: Optional[TreeNode], targetSum: int) -> int:\n",
    "        def preorder(node: TreeNode, current_sum: int) -> None:\n",
    "            nonlocal count\n",
    "            if not node:\n",
    "                return\n",
    "\n",
    "            current_sum += node.val\n",
    "\n",
    "            if current_sum == k:\n",
    "                count += 1\n",
    "\n",
    "            count += h[current_sum - k]\n",
    "\n",
    "            h[current_sum] += 1\n",
    "            preorder(node.right, current_sum)\n",
    "            preorder(node.left, current_sum)\n",
    "\n",
    "            h[current_sum] -= 1\n",
    "\n",
    "        \n",
    "        count, k = 0, targetSum\n",
    "        h = defaultdict(int)\n",
    "        preorder(root, 0)\n",
    "        return count\n",
    "            \n",
    "\n"
   ]
  },
  {
   "cell_type": "code",
   "execution_count": 73,
   "metadata": {},
   "outputs": [],
   "source": [
    "root = TreeNode(10, \n",
    "                TreeNode(5, \n",
    "                         TreeNode(3, TreeNode(3), TreeNode(-2)),\n",
    "                         TreeNode(2, TreeNode(1))),\n",
    "                TreeNode(-3, TreeNode(11)))"
   ]
  },
  {
   "cell_type": "code",
   "execution_count": 74,
   "metadata": {},
   "outputs": [
    {
     "name": "stdout",
     "output_type": "stream",
     "text": [
      "3\n"
     ]
    }
   ],
   "source": [
    "print(Solution().pathSum(root, 8))"
   ]
  },
  {
   "cell_type": "markdown",
   "metadata": {},
   "source": [
    "## 考察\n",
    "なんとなくイメージはわかるけど、自分では解けない。\n",
    "defaultdict(int)は何のために使っているのか。"
   ]
  }
 ],
 "metadata": {
  "kernelspec": {
   "display_name": ".venv",
   "language": "python",
   "name": "python3"
  },
  "language_info": {
   "codemirror_mode": {
    "name": "ipython",
    "version": 3
   },
   "file_extension": ".py",
   "mimetype": "text/x-python",
   "name": "python",
   "nbconvert_exporter": "python",
   "pygments_lexer": "ipython3",
   "version": "3.12.3"
  }
 },
 "nbformat": 4,
 "nbformat_minor": 2
}
