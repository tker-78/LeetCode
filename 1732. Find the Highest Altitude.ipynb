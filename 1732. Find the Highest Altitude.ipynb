{
 "cells": [
  {
   "cell_type": "markdown",
   "metadata": {},
   "source": [
    "# 1732. Find the Highest Altitude\n",
    "[問題]()\n",
    "\n",
    "There is a biker going on a road trip. The road trip consists of n + 1 points at different altitudes. The biker starts his trip on point 0 with altitude equal 0.\n",
    "\n",
    "You are given an integer array gain of length n where gain[i] is the net gain in altitude between points i​​​​​​ and i + 1 for all (0 <= i < n). Return the highest altitude of a point.\n",
    "\n",
    " \n",
    "\n",
    "```\n",
    "Example 1:\n",
    "Input: gain = [-5,1,5,0,-7]\n",
    "Output: 1\n",
    "Explanation: The altitudes are [0,-5,-4,1,1,-6]. The highest is 1.\n",
    "\n",
    "Example 2:\n",
    "Input: gain = [-4,-3,-2,-1,4,3,2]\n",
    "Output: 0\n",
    "Explanation: The altitudes are [0,-4,-7,-9,-10,-6,-3,-1]. The highest is 0.\n",
    "```\n",
    "\n",
    "## 解答の方針\n",
    "単純にgainを足して行って、最大値を返すだけ。\n",
    "\n",
    "## 実装\n"
   ]
  },
  {
   "cell_type": "code",
   "execution_count": 4,
   "metadata": {},
   "outputs": [],
   "source": [
    "from typing import List\n",
    "class Solution(object):\n",
    "    def largestAlititude(self, gain: List[int]) -> int:\n",
    "        highest = 0\n",
    "        altitude = 0\n",
    "        for item in gain:\n",
    "            altitude += item\n",
    "            if altitude > highest:\n",
    "                highest = altitude\n",
    "        return highest\n"
   ]
  },
  {
   "cell_type": "code",
   "execution_count": 7,
   "metadata": {},
   "outputs": [],
   "source": [
    "# gain = [-5, 1, 5, 0, -7]\n",
    "gain = [-4, -3, -2, -1, 4, 3, 2]"
   ]
  },
  {
   "cell_type": "code",
   "execution_count": 8,
   "metadata": {},
   "outputs": [
    {
     "name": "stdout",
     "output_type": "stream",
     "text": [
      "0\n"
     ]
    }
   ],
   "source": [
    "print(Solution().largestAlititude(gain))"
   ]
  },
  {
   "cell_type": "markdown",
   "metadata": {},
   "source": [
    "## 考察\n",
    "上記コードでOK."
   ]
  }
 ],
 "metadata": {
  "kernelspec": {
   "display_name": ".venv",
   "language": "python",
   "name": "python3"
  },
  "language_info": {
   "codemirror_mode": {
    "name": "ipython",
    "version": 3
   },
   "file_extension": ".py",
   "mimetype": "text/x-python",
   "name": "python",
   "nbconvert_exporter": "python",
   "pygments_lexer": "ipython3",
   "version": "3.12.3"
  }
 },
 "nbformat": 4,
 "nbformat_minor": 2
}
