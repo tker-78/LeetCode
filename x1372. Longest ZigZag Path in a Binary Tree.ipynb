{
 "cells": [
  {
   "cell_type": "markdown",
   "metadata": {},
   "source": [
    "# 1372. Longest ZigZag Path in a Binary Tree\n",
    "[問題](https://leetcode.com/problems/longest-zigzag-path-in-a-binary-tree/?envType=study-plan-v2&envId=leetcode-75)  \n",
    "\n",
    "You are given the root of a binary tree.\n",
    "\n",
    "A ZigZag path for a binary tree is defined as follow:\n",
    "\n",
    "Choose any node in the binary tree and a direction (right or left).\n",
    "If the current direction is right, move to the right child of the current node; otherwise, move to the left child.\n",
    "Change the direction from right to left or from left to right.\n",
    "Repeat the second and third steps until you can't move in the tree.\n",
    "Zigzag length is defined as the number of nodes visited - 1. (A single node has a length of 0).\n",
    "\n",
    "Return the longest ZigZag path contained in that tree.\n",
    "\n",
    "## 回答の方針\n",
    "dfsで、nonlocalでフラグを立てる。\n",
    "\n",
    "\n",
    "## 実装\n"
   ]
  },
  {
   "cell_type": "code",
   "execution_count": 1,
   "metadata": {},
   "outputs": [],
   "source": [
    "from typing import Optional\n",
    "from collections import defaultdict\n",
    "class TreeNode(object):\n",
    "    def __init__(self, val=0, left=None, right=None):\n",
    "        self.val = val\n",
    "        self.left = left\n",
    "        self.right = right\n",
    "\n",
    "def dfs(root: Optional[TreeNode]) -> None:\n",
    "    if root is None:\n",
    "        print(\"None\")\n",
    "        return\n",
    "\n",
    "    print(root.val)\n",
    "\n",
    "    return dfs(root.left) or dfs(root.right)\n",
    "\n",
    "def bfs(root: Optional[TreeNode]) -> None:\n",
    "    if root is None:\n",
    "        return\n",
    "\n",
    "    queue = [root]\n",
    "    while queue:\n",
    "        current = queue.pop(0)\n",
    "        print(current.val)\n",
    "\n",
    "        if current.left:\n",
    "            queue.append(current.left)\n",
    "        if current.right:\n",
    "            queue.append(current.right)\n",
    "\n",
    "\n",
    "\n",
    "class Solution(object):\n",
    "    def longestZigZag(self, root: Optional[TreeNode]) -> int:\n",
    "        self.pathLength = 0\n",
    "        def preorder(root: Optional[TreeNode], goLeft: bool, steps: int) -> None:\n",
    "            if root is None:\n",
    "                return\n",
    "\n",
    "            self.pathLength = max(self.pathLength, steps)\n",
    "\n",
    "            if goLeft:\n",
    "                preorder(root.left, False, steps + 1)\n",
    "                preorder(root.right, True, 1)\n",
    "            else:\n",
    "                preorder(root.left, False, 1)\n",
    "                preorder(root.right, True, steps + 1)\n",
    "\n",
    "        preorder(root, True, 0)\n",
    "        return self.pathLength\n",
    "            \n",
    "\n",
    "\n",
    "            \n"
   ]
  },
  {
   "cell_type": "code",
   "execution_count": 2,
   "metadata": {},
   "outputs": [],
   "source": [
    "root = TreeNode(1, \n",
    "                None, TreeNode(1,\n",
    "                               TreeNode(1,\n",
    "                                        None, TreeNode(1, \n",
    "                                                       None, TreeNode(1,\n",
    "                                                                      None, TreeNode(1)))),\n",
    "                                        TreeNode(1)\n",
    "                               ))\n",
    "\n",
    "# root = TreeNode(10, \n",
    "#                 TreeNode(5, \n",
    "#                          TreeNode(3, TreeNode(3), TreeNode(-2)),\n",
    "#                          TreeNode(2, TreeNode(1))),\n",
    "#                 TreeNode(-3, TreeNode(11)))            "
   ]
  },
  {
   "cell_type": "code",
   "execution_count": 4,
   "metadata": {},
   "outputs": [
    {
     "name": "stdout",
     "output_type": "stream",
     "text": [
      "3\n"
     ]
    }
   ],
   "source": [
    "print(Solution().longestZigZag(root))"
   ]
  },
  {
   "cell_type": "markdown",
   "metadata": {},
   "source": [
    "## 考察\n",
    "これもイメージでは理解できたけど、自分で実装は難しそう。"
   ]
  }
 ],
 "metadata": {
  "kernelspec": {
   "display_name": ".venv",
   "language": "python",
   "name": "python3"
  },
  "language_info": {
   "codemirror_mode": {
    "name": "ipython",
    "version": 3
   },
   "file_extension": ".py",
   "mimetype": "text/x-python",
   "name": "python",
   "nbconvert_exporter": "python",
   "pygments_lexer": "ipython3",
   "version": "3.12.3"
  }
 },
 "nbformat": 4,
 "nbformat_minor": 2
}
